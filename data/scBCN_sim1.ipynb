{
 "cells": [
  {
   "cell_type": "markdown",
   "id": "923f7b63-c2bf-4fc9-8249-e9cccd490d9d",
   "metadata": {},
   "source": [
    "### integration"
   ]
  },
  {
   "cell_type": "code",
   "execution_count": 1,
   "id": "441dce6b-5e77-4c7e-bcb9-69b02acf5051",
   "metadata": {},
   "outputs": [
    {
     "name": "stderr",
     "output_type": "stream",
     "text": [
      "Duplicate key in file PosixPath('/root/miniconda3/envs/sc/lib/python3.10/site-packages/matplotlib/mpl-data/matplotlibrc'), line 805 ('font.family:  sans-serif')\n",
      "Duplicate key in file PosixPath('/root/miniconda3/envs/sc/lib/python3.10/site-packages/matplotlib/mpl-data/matplotlibrc'), line 806 ('font.sans-serif: SimHei, DejaVu Sans, Bitstream Vera Sans, Computer Modern Sans Serif, Lucida Grande, Verdana, Geneva, Lucid, Arial, Helvetica, Avant Garde, sans-serif')\n",
      "Duplicate key in file PosixPath('/root/miniconda3/envs/sc/lib/python3.10/site-packages/matplotlib/mpl-data/matplotlibrc'), line 807 ('axes.unicode_minus: False')\n"
     ]
    }
   ],
   "source": [
    "import scanpy as sc \n",
    "import matplotlib\n",
    "import argparse\n",
    "matplotlib.use(\"Agg\")"
   ]
  },
  {
   "cell_type": "code",
   "execution_count": 2,
   "id": "30af6246-b73a-4bb9-9d49-167135a677a3",
   "metadata": {},
   "outputs": [],
   "source": [
    "%run scBCN.py\n",
    "from scBCN import scBCNModel"
   ]
  },
  {
   "cell_type": "code",
   "execution_count": 3,
   "id": "c8420905-cb7e-4698-bab8-4c3f797d3e09",
   "metadata": {},
   "outputs": [],
   "source": [
    "import warnings\n",
    "warnings.filterwarnings('ignore')\n",
    "warnings.simplefilter('ignore')"
   ]
  },
  {
   "cell_type": "code",
   "execution_count": 4,
   "id": "507697b4-8585-48b3-95a4-da817f5f5967",
   "metadata": {
    "tags": []
   },
   "outputs": [
    {
     "name": "stdout",
     "output_type": "stream",
     "text": [
      "method= scBCN\n"
     ]
    },
    {
     "name": "stderr",
     "output_type": "stream",
     "text": [
      "usage: ipykernel_launcher.py [-h] --dataset DATASET --filepath FILEPATH\n",
      "                             --ncelltype NCELLTYPE [--k K]\n",
      "                             [--resolution RESOLUTION] [--n_hvg N_HVG]\n",
      "                             [--verbose VERBOSE] --savedir SAVEDIR\n",
      "                             [--save SAVE]\n",
      "ipykernel_launcher.py: error: the following arguments are required: --dataset, --filepath, --ncelltype, --savedir\n"
     ]
    },
    {
     "ename": "SystemExit",
     "evalue": "2",
     "output_type": "error",
     "traceback": [
      "An exception has occurred, use %tb to see the full traceback.\n",
      "\u001b[0;31mSystemExit\u001b[0m\u001b[0;31m:\u001b[0m 2\n"
     ]
    }
   ],
   "source": [
    "# 解析命令行参数\n",
    "method=\"scBCN\"\n",
    "parser = argparse.ArgumentParser()  # 添加多个命令行参数的定义\n",
    "parser.add_argument('--dataset',type=str,required=True, help='dataset name')\n",
    "parser.add_argument(\"--filepath\",type=str,required=True,help=\"folder path of stored data\")\n",
    "parser.add_argument(\"--ncelltype\",type=int,required=True,help=\"number of celltype in dataset\")\n",
    "parser.add_argument(\"--k\",type=int,default=10,help=\"k value to calculate MNN pair\")\n",
    "parser.add_argument(\"--resolution\",type=float,default=3.0,help=\"resolution of clustering algorithm\")\n",
    "parser.add_argument(\"--n_hvg\",type=int,default=2000,help=\"number of highly variable genes to be selected\")\n",
    "parser.add_argument(\"--verbose\",type=bool,default=True,help=\"print additional information\")\n",
    "parser.add_argument(\"--savedir\",type=str,required=True,help=\"where to save data\")\n",
    "parser.add_argument(\"--save\",type=bool,default=True,help=\"whether to save data\")\n",
    "print(\"method=\",method)\n",
    "args=parser.parse_args()  # 将解析结果存储在args变量中\n",
    "print(\"dataset=\",args.dataset)\n",
    "dataset=args.dataset\n",
    "filepath=args.filepath\n",
    "ncelltype=args.ncelltype\n",
    "k=args.k\n",
    "resolution=args.resolution\n",
    "n_hvg=args.n_hvg\n",
    "verbose=args.verbose\n",
    "savedir=args.savedir\n",
    "save=args.save\n",
    "save_figdir=savedir"
   ]
  },
  {
   "cell_type": "code",
   "execution_count": 5,
   "id": "a7850f39-627a-4757-821d-dbf5a4bbc215",
   "metadata": {},
   "outputs": [],
   "source": [
    "# 后续更改\n",
    "filepath = '/root/autodl-tmp/data/sim1'\n",
    "dataset = 'sim1'\n",
    "save_figdir = '/root/autodl-tmp/evaluation/'\n",
    "save_dir = '/root/autodl-tmp/evaluation/'"
   ]
  },
  {
   "cell_type": "code",
   "execution_count": 6,
   "id": "1d7ebaa6-788e-4197-b84f-8d1f8fef2fba",
   "metadata": {},
   "outputs": [
    {
     "data": {
      "text/plain": [
       "AnnData object with n_obs × n_vars = 1972 × 10000\n",
       "    obs: 'celltype', 'cell', 'batch', 'BATCH'"
      ]
     },
     "execution_count": 6,
     "metadata": {},
     "output_type": "execute_result"
    }
   ],
   "source": [
    "dataset_path=filepath+\"/\"+dataset+\"_raw.h5ad\"# \n",
    "adata_raw=sc.read(dataset_path)\n",
    "sc.settings.figdir=save_figdir+dataset+\"/\"+method+\"/\"\n",
    "adata_raw"
   ]
  },
  {
   "cell_type": "code",
   "execution_count": 7,
   "id": "153fffe1-2ea2-439d-b1d3-295c4559a426",
   "metadata": {
    "tags": []
   },
   "outputs": [
    {
     "name": "stdout",
     "output_type": "stream",
     "text": [
      "====== print brief infomation of dataset ======\n",
      "====== there are 3 batchs in this dataset ======\n",
      "====== there are 4 celltypes with this dataset ======\n"
     ]
    },
    {
     "data": {
      "text/html": [
       "<div>\n",
       "<style scoped>\n",
       "    .dataframe tbody tr th:only-of-type {\n",
       "        vertical-align: middle;\n",
       "    }\n",
       "\n",
       "    .dataframe tbody tr th {\n",
       "        vertical-align: top;\n",
       "    }\n",
       "\n",
       "    .dataframe thead th {\n",
       "        text-align: right;\n",
       "    }\n",
       "</style>\n",
       "<table border=\"1\" class=\"dataframe\">\n",
       "  <thead>\n",
       "    <tr style=\"text-align: right;\">\n",
       "      <th>celltype</th>\n",
       "      <th>Group1</th>\n",
       "      <th>Group2</th>\n",
       "      <th>Group3</th>\n",
       "      <th>Group4</th>\n",
       "      <th>Total</th>\n",
       "    </tr>\n",
       "    <tr>\n",
       "      <th>BATCH</th>\n",
       "      <th></th>\n",
       "      <th></th>\n",
       "      <th></th>\n",
       "      <th></th>\n",
       "      <th></th>\n",
       "    </tr>\n",
       "  </thead>\n",
       "  <tbody>\n",
       "    <tr>\n",
       "      <th>Batch_1</th>\n",
       "      <td>29</td>\n",
       "      <td>156</td>\n",
       "      <td>187</td>\n",
       "      <td>203</td>\n",
       "      <td>575</td>\n",
       "    </tr>\n",
       "    <tr>\n",
       "      <th>Batch_2</th>\n",
       "      <td>29</td>\n",
       "      <td>189</td>\n",
       "      <td>195</td>\n",
       "      <td>186</td>\n",
       "      <td>599</td>\n",
       "    </tr>\n",
       "    <tr>\n",
       "      <th>Batch_3</th>\n",
       "      <td>0</td>\n",
       "      <td>222</td>\n",
       "      <td>293</td>\n",
       "      <td>283</td>\n",
       "      <td>798</td>\n",
       "    </tr>\n",
       "    <tr>\n",
       "      <th>Total</th>\n",
       "      <td>58</td>\n",
       "      <td>567</td>\n",
       "      <td>675</td>\n",
       "      <td>672</td>\n",
       "      <td>1972</td>\n",
       "    </tr>\n",
       "  </tbody>\n",
       "</table>\n",
       "</div>"
      ],
      "text/plain": [
       "celltype  Group1  Group2  Group3  Group4  Total\n",
       "BATCH                                          \n",
       "Batch_1       29     156     187     203    575\n",
       "Batch_2       29     189     195     186    599\n",
       "Batch_3        0     222     293     283    798\n",
       "Total         58     567     675     672   1972"
      ]
     },
     "metadata": {},
     "output_type": "display_data"
    }
   ],
   "source": [
    "#from scBCN import print_dataset_information\n",
    "print_dataset_information(adata_raw, batch_key=\"BATCH\", celltype_key=\"celltype\")"
   ]
  },
  {
   "cell_type": "code",
   "execution_count": 8,
   "id": "50733678-8f1b-4f53-8d5f-dcbffed31b36",
   "metadata": {},
   "outputs": [
    {
     "name": "stderr",
     "output_type": "stream",
     "text": [
      "2025-04-23 22:12:39,798 - root - INFO - Create log file....\n",
      "2025-04-23 22:12:39,798 - root - INFO - Create scBCNModel Object Done....\n"
     ]
    }
   ],
   "source": [
    "method=\"scBCN\"\n",
    "scbcn=scBCNModel(save_dir=save_figdir+dataset+\"/\"+method+\"/\")"
   ]
  },
  {
   "cell_type": "code",
   "execution_count": 9,
   "id": "504bde66-3177-4466-bfea-b63727e61644",
   "metadata": {
    "tags": []
   },
   "outputs": [
    {
     "name": "stderr",
     "output_type": "stream",
     "text": [
      "2025-04-23 22:12:43,864 - root - INFO - Running preprocess() function...\n",
      "2025-04-23 22:12:43,864 - root - INFO - Leiden (resolution=3.0)\n",
      "2025-04-23 22:12:43,865 - root - INFO - BATCH_key=BATCH\n",
      "2025-04-23 22:12:43,866 - root - INFO - Normalize counts per cell(sum=10000.0)\n",
      "2025-04-23 22:12:43,895 - root - INFO - Log1p data\n",
      "2025-04-23 22:12:43,937 - root - INFO - Select HVG(n_top_genes=2000)\n",
      "2025-04-23 22:12:44,394 - root - INFO - Scale batch(scale_value=10.0)\n",
      "2025-04-23 22:12:44,488 - root - INFO - Calculate PCA(n_comps=100)\n"
     ]
    },
    {
     "name": "stdout",
     "output_type": "stream",
     "text": [
      "WARNING: You’re trying to run this on 100 dimensions of `.X`, if you really want this, set `use_rep='X'`.\n",
      "         Falling back to preprocessing with `sc.pp.pca` and default params.\n"
     ]
    },
    {
     "name": "stderr",
     "output_type": "stream",
     "text": [
      "2025-04-23 22:12:53,819 - root - INFO - Apply leiden clustring(resolution=3.0)  initization\n",
      "2025-04-23 22:12:53,822 - root - INFO - Number of Cluster =35\n",
      "2025-04-23 22:12:53,823 - root - INFO - clusters=[0, 1, 2, 3, 4, 5, 6, 7, 8, 9, 10, 11, 12, 13, 14, 15, 16, 17, 18, 19, 20, 21, 22, 23, 24, 25, 26, 27, 28, 29, 30, 31, 32, 33, 34]\n",
      "2025-04-23 22:12:53,824 - root - INFO - Preprocess Dataset Done...\n"
     ]
    },
    {
     "name": "stdout",
     "output_type": "stream",
     "text": [
      "AnnData object with n_obs × n_vars = 1972 × 2000\n",
      "    obs: 'celltype', 'cell', 'batch', 'BATCH', 'init_cluster'\n",
      "    var: 'highly_variable', 'means', 'dispersions', 'dispersions_norm', 'mean-0', 'std-0', 'mean-1', 'std-1', 'mean-2', 'std-2'\n",
      "    uns: 'pca'\n",
      "    obsm: 'X_pca'\n",
      "    varm: 'PCs'\n"
     ]
    }
   ],
   "source": [
    "adata=scbcn.preprocess(adata_raw, resolution=3.0, n_high_var=2000)\n",
    "print(adata)"
   ]
  },
  {
   "cell_type": "code",
   "execution_count": 11,
   "id": "3116ecbb-5472-4760-a943-a412de76fc81",
   "metadata": {
    "tags": []
   },
   "outputs": [
    {
     "name": "stderr",
     "output_type": "stream",
     "text": [
      "2025-04-23 22:13:13,929 - root - INFO - k=10\n",
      "2025-04-23 22:13:13,930 - root - INFO - Calculate similarity of cluster with MNN\n",
      "2025-04-23 22:13:13,930 - root - INFO - Appoximate calculate MNN pairs intra batch and inter batch...\n",
      "2025-04-23 22:13:13,932 - root - INFO - Calculate MNN pairs intra batch and inter batch...........\n",
      "2025-04-23 22:13:13,932 - root - INFO - k=10\n",
      "2025-04-23 22:13:13,933 - root - INFO - Processing datasets: (0, 0) = ('Batch_1', 'Batch_1')\n",
      "2025-04-23 22:13:14,074 - root - INFO - There are (39900) MNN pairs when processing (0, 0)=('Batch_1', 'Batch_1')\n",
      "2025-04-23 22:13:14,075 - root - INFO - Processing datasets: (0, 1) = ('Batch_1', 'Batch_2')\n",
      "2025-04-23 22:13:14,339 - root - INFO - There are (81234) MNN pairs when processing (0, 1)=('Batch_1', 'Batch_2')\n",
      "2025-04-23 22:13:14,340 - root - INFO - Processing datasets: (0, 2) = ('Batch_1', 'Batch_3')\n",
      "2025-04-23 22:13:14,637 - root - INFO - There are (95404) MNN pairs when processing (0, 2)=('Batch_1', 'Batch_3')\n",
      "2025-04-23 22:13:14,638 - root - INFO - Processing datasets: (1, 1) = ('Batch_2', 'Batch_2')\n",
      "2025-04-23 22:13:14,835 - root - INFO - There are (42552) MNN pairs when processing (1, 1)=('Batch_2', 'Batch_2')\n",
      "2025-04-23 22:13:14,836 - root - INFO - Processing datasets: (1, 2) = ('Batch_2', 'Batch_3')\n",
      "2025-04-23 22:13:15,180 - root - INFO - There are (98961) MNN pairs when processing (1, 2)=('Batch_2', 'Batch_3')\n",
      "2025-04-23 22:13:15,181 - root - INFO - Processing datasets: (2, 2) = ('Batch_3', 'Batch_3')\n",
      "2025-04-23 22:13:15,788 - root - INFO - There are (64159) MNN pairs when processing (2, 2)=('Batch_3', 'Batch_3')\n",
      "2025-04-23 22:13:15,791 - root - INFO - scBCN finds (422210) MNN pairs in dataset finally\n",
      "2025-04-23 22:13:15,792 - root - INFO - Find All Nearest Neighbours Done....\n",
      "2025-04-23 22:13:15,793 - root - INFO - Calculate similarity matrix between clusters\n",
      "2025-04-23 22:13:16,052 - root - INFO - mnn_summary is not symmetric!\n",
      "2025-04-23 22:13:16,175 - root - INFO - 372210 MNN pairs link different clusters\n",
      "2025-04-23 22:13:16,180 - root - INFO - Save correlation matrix to file....\n",
      "2025-04-23 22:13:16,183 - root - INFO - Save MNN pairs matrix to file\n",
      "2025-04-23 22:13:16,185 - root - INFO - Calculate similarity matrix done!\n",
      "2025-04-23 22:13:16,283 - root - INFO - Merging cluster list:[['0', '1', '2', '4', '17', '21', '26', '34'], ['3', '6', '7', '8', '13', '18', '20', '22', '24', '27', '30', '31', '33'], ['5', '9', '10', '11', '12', '15', '16', '19', '23', '25', '28', '29', '32'], ['14']]\n",
      "2025-04-23 22:13:16,284 - root - INFO - Build ResidualNet for scBCN training\n",
      "2025-04-23 22:13:16,293 - root - INFO - ResidualNet(\n",
      "  (linear1): Linear(in_features=2000, out_features=256, bias=True)\n",
      "  (relu): PReLU(num_parameters=1)\n",
      "  (blocks): ModuleList(\n",
      "    (0-1): 2 x ResidualBlock(\n",
      "      (linear1): Linear(in_features=256, out_features=256, bias=True)\n",
      "      (bn1): BatchNorm1d(256, eps=1e-05, momentum=0.1, affine=True, track_running_stats=True)\n",
      "      (relu): PReLU(num_parameters=1)\n",
      "      (linear2): Linear(in_features=256, out_features=256, bias=True)\n",
      "      (bn2): BatchNorm1d(256, eps=1e-05, momentum=0.1, affine=True, track_running_stats=True)\n",
      "    )\n",
      "  )\n",
      "  (linear2): Linear(in_features=256, out_features=32, bias=True)\n",
      ")\n",
      "2025-04-23 22:13:16,294 - root - INFO - Build ResidualNet Net Done...\n",
      "2025-04-23 22:13:16,294 - root - INFO - train scBCN(expect_num_cluster=4) with ResidualNet\n",
      "2025-04-23 22:13:16,295 - root - INFO - expect_num_cluster=4\n",
      "2025-04-23 22:13:16,295 - root - INFO - using GPU to train model\n",
      "2025-04-23 22:13:16,300 - root - INFO - use cosine distance to train model\n",
      "2025-04-23 22:13:16,516 - root - INFO - epoch=1, loss=[10335.]\n",
      "2025-04-23 22:13:16,683 - root - INFO - epoch=2, loss=[10335.   261.]\n",
      "2025-04-23 22:13:16,864 - root - INFO - epoch=3, loss=[10335.   261.   807.]\n",
      "2025-04-23 22:13:17,017 - root - INFO - epoch=4, loss=[10335.   261.   807.    60.]\n",
      "2025-04-23 22:13:17,164 - root - INFO - epoch=5, loss=[10335.   261.   807.    60.    22.]\n",
      "2025-04-23 22:13:17,313 - root - INFO - epoch=6, loss=[1.0335e+04 2.6100e+02 8.0700e+02 6.0000e+01 2.2000e+01 2.0000e+00]\n",
      "2025-04-23 22:13:17,465 - root - INFO - epoch=7, loss=[1.0335e+04 2.6100e+02 8.0700e+02 6.0000e+01 2.2000e+01 2.0000e+00\n",
      " 1.1000e+01]\n",
      "2025-04-23 22:13:17,629 - root - INFO - epoch=8, loss=[1.0335e+04 2.6100e+02 8.0700e+02 6.0000e+01 2.2000e+01 2.0000e+00\n",
      " 1.1000e+01 2.5200e+02]\n",
      "2025-04-23 22:13:17,825 - root - INFO - epoch=9, loss=[1.0335e+04 2.6100e+02 8.0700e+02 6.0000e+01 2.2000e+01 2.0000e+00\n",
      " 1.1000e+01 2.5200e+02 6.7800e+02]\n",
      "2025-04-23 22:13:17,993 - root - INFO - epoch=10, loss=[1.0335e+04 2.6100e+02 8.0700e+02 6.0000e+01 2.2000e+01 2.0000e+00\n",
      " 1.1000e+01 2.5200e+02 6.7800e+02 1.1700e+02]\n",
      "2025-04-23 22:13:18,143 - root - INFO - epoch=11, loss=[1.0335e+04 2.6100e+02 8.0700e+02 6.0000e+01 2.2000e+01 2.0000e+00\n",
      " 1.1000e+01 2.5200e+02 6.7800e+02 1.1700e+02 1.5000e+01]\n",
      "2025-04-23 22:13:18,289 - root - INFO - epoch=12, loss=[1.0335e+04 2.6100e+02 8.0700e+02 6.0000e+01 2.2000e+01 2.0000e+00\n",
      " 1.1000e+01 2.5200e+02 6.7800e+02 1.1700e+02 1.5000e+01 6.0000e+00]\n",
      "2025-04-23 22:13:18,433 - root - INFO - epoch=13, loss=[1.0335e+04 2.6100e+02 8.0700e+02 6.0000e+01 2.2000e+01 2.0000e+00\n",
      " 1.1000e+01 2.5200e+02 6.7800e+02 1.1700e+02 1.5000e+01 6.0000e+00\n",
      " 0.0000e+00]\n",
      "2025-04-23 22:13:18,577 - root - INFO - epoch=14, loss=[1.0335e+04 2.6100e+02 8.0700e+02 6.0000e+01 2.2000e+01 2.0000e+00\n",
      " 1.1000e+01 2.5200e+02 6.7800e+02 1.1700e+02 1.5000e+01 6.0000e+00\n",
      " 0.0000e+00 1.0000e+00]\n",
      "2025-04-23 22:13:18,723 - root - INFO - epoch=15, loss=[1.0335e+04 2.6100e+02 8.0700e+02 6.0000e+01 2.2000e+01 2.0000e+00\n",
      " 1.1000e+01 2.5200e+02 6.7800e+02 1.1700e+02 1.5000e+01 6.0000e+00\n",
      " 0.0000e+00 1.0000e+00 2.0000e+01]\n",
      "2025-04-23 22:13:18,866 - root - INFO - epoch=16, loss=[1.0335e+04 2.6100e+02 8.0700e+02 6.0000e+01 2.2000e+01 2.0000e+00\n",
      " 1.1000e+01 2.5200e+02 6.7800e+02 1.1700e+02 1.5000e+01 6.0000e+00\n",
      " 0.0000e+00 1.0000e+00 2.0000e+01 0.0000e+00]\n",
      "2025-04-23 22:13:19,012 - root - INFO - epoch=17, loss=[1.0335e+04 2.6100e+02 8.0700e+02 6.0000e+01 2.2000e+01 2.0000e+00\n",
      " 1.1000e+01 2.5200e+02 6.7800e+02 1.1700e+02 1.5000e+01 6.0000e+00\n",
      " 0.0000e+00 1.0000e+00 2.0000e+01 0.0000e+00 9.0000e+00]\n",
      "2025-04-23 22:13:19,155 - root - INFO - epoch=18, loss=[1.0335e+04 2.6100e+02 8.0700e+02 6.0000e+01 2.2000e+01 2.0000e+00\n",
      " 1.1000e+01 2.5200e+02 6.7800e+02 1.1700e+02 1.5000e+01 6.0000e+00\n",
      " 0.0000e+00 1.0000e+00 2.0000e+01 0.0000e+00 9.0000e+00 0.0000e+00]\n",
      "2025-04-23 22:13:19,302 - root - INFO - epoch=19, loss=[1.0335e+04 2.6100e+02 8.0700e+02 6.0000e+01 2.2000e+01 2.0000e+00\n",
      " 1.1000e+01 2.5200e+02 6.7800e+02 1.1700e+02 1.5000e+01 6.0000e+00\n",
      " 0.0000e+00 1.0000e+00 2.0000e+01 0.0000e+00 9.0000e+00 0.0000e+00\n",
      " 2.0000e+00]\n",
      "2025-04-23 22:13:19,444 - root - INFO - epoch=20, loss=[1.0335e+04 2.6100e+02 8.0700e+02 6.0000e+01 2.2000e+01 2.0000e+00\n",
      " 1.1000e+01 2.5200e+02 6.7800e+02 1.1700e+02 1.5000e+01 6.0000e+00\n",
      " 0.0000e+00 1.0000e+00 2.0000e+01 0.0000e+00 9.0000e+00 0.0000e+00\n",
      " 2.0000e+00 0.0000e+00]\n",
      "2025-04-23 22:13:19,593 - root - INFO - epoch=21, loss=[1.0335e+04 2.6100e+02 8.0700e+02 6.0000e+01 2.2000e+01 2.0000e+00\n",
      " 1.1000e+01 2.5200e+02 6.7800e+02 1.1700e+02 1.5000e+01 6.0000e+00\n",
      " 0.0000e+00 1.0000e+00 2.0000e+01 0.0000e+00 9.0000e+00 0.0000e+00\n",
      " 2.0000e+00 0.0000e+00 2.0000e+00]\n",
      "2025-04-23 22:13:19,738 - root - INFO - epoch=22, loss=[1.0335e+04 2.6100e+02 8.0700e+02 6.0000e+01 2.2000e+01 2.0000e+00\n",
      " 1.1000e+01 2.5200e+02 6.7800e+02 1.1700e+02 1.5000e+01 6.0000e+00\n",
      " 0.0000e+00 1.0000e+00 2.0000e+01 0.0000e+00 9.0000e+00 0.0000e+00\n",
      " 2.0000e+00 0.0000e+00 2.0000e+00 0.0000e+00]\n",
      "2025-04-23 22:13:19,893 - root - INFO - epoch=23, loss=[1.0335e+04 2.6100e+02 8.0700e+02 6.0000e+01 2.2000e+01 2.0000e+00\n",
      " 1.1000e+01 2.5200e+02 6.7800e+02 1.1700e+02 1.5000e+01 6.0000e+00\n",
      " 0.0000e+00 1.0000e+00 2.0000e+01 0.0000e+00 9.0000e+00 0.0000e+00\n",
      " 2.0000e+00 0.0000e+00 2.0000e+00 0.0000e+00 1.0000e+00]\n",
      "2025-04-23 22:13:20,036 - root - INFO - epoch=24, loss=[1.0335e+04 2.6100e+02 8.0700e+02 6.0000e+01 2.2000e+01 2.0000e+00\n",
      " 1.1000e+01 2.5200e+02 6.7800e+02 1.1700e+02 1.5000e+01 6.0000e+00\n",
      " 0.0000e+00 1.0000e+00 2.0000e+01 0.0000e+00 9.0000e+00 0.0000e+00\n",
      " 2.0000e+00 0.0000e+00 2.0000e+00 0.0000e+00 1.0000e+00 0.0000e+00]\n",
      "2025-04-23 22:13:20,183 - root - INFO - epoch=25, loss=[1.0335e+04 2.6100e+02 8.0700e+02 6.0000e+01 2.2000e+01 2.0000e+00\n",
      " 1.1000e+01 2.5200e+02 6.7800e+02 1.1700e+02 1.5000e+01 6.0000e+00\n",
      " 0.0000e+00 1.0000e+00 2.0000e+01 0.0000e+00 9.0000e+00 0.0000e+00\n",
      " 2.0000e+00 0.0000e+00 2.0000e+00 0.0000e+00 1.0000e+00 0.0000e+00\n",
      " 0.0000e+00]\n",
      "2025-04-23 22:13:20,329 - root - INFO - epoch=26, loss=[1.0335e+04 2.6100e+02 8.0700e+02 6.0000e+01 2.2000e+01 2.0000e+00\n",
      " 1.1000e+01 2.5200e+02 6.7800e+02 1.1700e+02 1.5000e+01 6.0000e+00\n",
      " 0.0000e+00 1.0000e+00 2.0000e+01 0.0000e+00 9.0000e+00 0.0000e+00\n",
      " 2.0000e+00 0.0000e+00 2.0000e+00 0.0000e+00 1.0000e+00 0.0000e+00\n",
      " 0.0000e+00 0.0000e+00]\n",
      "2025-04-23 22:13:20,471 - root - INFO - epoch=27, loss=[1.0335e+04 2.6100e+02 8.0700e+02 6.0000e+01 2.2000e+01 2.0000e+00\n",
      " 1.1000e+01 2.5200e+02 6.7800e+02 1.1700e+02 1.5000e+01 6.0000e+00\n",
      " 0.0000e+00 1.0000e+00 2.0000e+01 0.0000e+00 9.0000e+00 0.0000e+00\n",
      " 2.0000e+00 0.0000e+00 2.0000e+00 0.0000e+00 1.0000e+00 0.0000e+00\n",
      " 0.0000e+00 0.0000e+00 0.0000e+00]\n",
      "2025-04-23 22:13:20,627 - root - INFO - epoch=28, loss=[1.0335e+04 2.6100e+02 8.0700e+02 6.0000e+01 2.2000e+01 2.0000e+00\n",
      " 1.1000e+01 2.5200e+02 6.7800e+02 1.1700e+02 1.5000e+01 6.0000e+00\n",
      " 0.0000e+00 1.0000e+00 2.0000e+01 0.0000e+00 9.0000e+00 0.0000e+00\n",
      " 2.0000e+00 0.0000e+00 2.0000e+00 0.0000e+00 1.0000e+00 0.0000e+00\n",
      " 0.0000e+00 0.0000e+00 0.0000e+00 0.0000e+00]\n",
      "2025-04-23 22:13:20,766 - root - INFO - epoch=29, loss=[1.0335e+04 2.6100e+02 8.0700e+02 6.0000e+01 2.2000e+01 2.0000e+00\n",
      " 1.1000e+01 2.5200e+02 6.7800e+02 1.1700e+02 1.5000e+01 6.0000e+00\n",
      " 0.0000e+00 1.0000e+00 2.0000e+01 0.0000e+00 9.0000e+00 0.0000e+00\n",
      " 2.0000e+00 0.0000e+00 2.0000e+00 0.0000e+00 1.0000e+00 0.0000e+00\n",
      " 0.0000e+00 0.0000e+00 0.0000e+00 0.0000e+00 0.0000e+00]\n",
      "2025-04-23 22:13:20,916 - root - INFO - epoch=30, loss=[1.0335e+04 2.6100e+02 8.0700e+02 6.0000e+01 2.2000e+01 2.0000e+00\n",
      " 1.1000e+01 2.5200e+02 6.7800e+02 1.1700e+02 1.5000e+01 6.0000e+00\n",
      " 0.0000e+00 1.0000e+00 2.0000e+01 0.0000e+00 9.0000e+00 0.0000e+00\n",
      " 2.0000e+00 0.0000e+00 2.0000e+00 0.0000e+00 1.0000e+00 0.0000e+00\n",
      " 0.0000e+00 0.0000e+00 0.0000e+00 0.0000e+00 0.0000e+00 0.0000e+00]\n",
      "2025-04-23 22:13:21,060 - root - INFO - epoch=31, loss=[1.0335e+04 2.6100e+02 8.0700e+02 6.0000e+01 2.2000e+01 2.0000e+00\n",
      " 1.1000e+01 2.5200e+02 6.7800e+02 1.1700e+02 1.5000e+01 6.0000e+00\n",
      " 0.0000e+00 1.0000e+00 2.0000e+01 0.0000e+00 9.0000e+00 0.0000e+00\n",
      " 2.0000e+00 0.0000e+00 2.0000e+00 0.0000e+00 1.0000e+00 0.0000e+00\n",
      " 0.0000e+00 0.0000e+00 0.0000e+00 0.0000e+00 0.0000e+00 0.0000e+00\n",
      " 0.0000e+00]\n",
      "2025-04-23 22:13:21,198 - root - INFO - epoch=32, loss=[1.0335e+04 2.6100e+02 8.0700e+02 6.0000e+01 2.2000e+01 2.0000e+00\n",
      " 1.1000e+01 2.5200e+02 6.7800e+02 1.1700e+02 1.5000e+01 6.0000e+00\n",
      " 0.0000e+00 1.0000e+00 2.0000e+01 0.0000e+00 9.0000e+00 0.0000e+00\n",
      " 2.0000e+00 0.0000e+00 2.0000e+00 0.0000e+00 1.0000e+00 0.0000e+00\n",
      " 0.0000e+00 0.0000e+00 0.0000e+00 0.0000e+00 0.0000e+00 0.0000e+00\n",
      " 0.0000e+00 1.0000e+00]\n",
      "2025-04-23 22:13:21,340 - root - INFO - epoch=33, loss=[1.0335e+04 2.6100e+02 8.0700e+02 6.0000e+01 2.2000e+01 2.0000e+00\n",
      " 1.1000e+01 2.5200e+02 6.7800e+02 1.1700e+02 1.5000e+01 6.0000e+00\n",
      " 0.0000e+00 1.0000e+00 2.0000e+01 0.0000e+00 9.0000e+00 0.0000e+00\n",
      " 2.0000e+00 0.0000e+00 2.0000e+00 0.0000e+00 1.0000e+00 0.0000e+00\n",
      " 0.0000e+00 0.0000e+00 0.0000e+00 0.0000e+00 0.0000e+00 0.0000e+00\n",
      " 0.0000e+00 1.0000e+00 0.0000e+00]\n",
      "2025-04-23 22:13:21,481 - root - INFO - epoch=34, loss=[1.0335e+04 2.6100e+02 8.0700e+02 6.0000e+01 2.2000e+01 2.0000e+00\n",
      " 1.1000e+01 2.5200e+02 6.7800e+02 1.1700e+02 1.5000e+01 6.0000e+00\n",
      " 0.0000e+00 1.0000e+00 2.0000e+01 0.0000e+00 9.0000e+00 0.0000e+00\n",
      " 2.0000e+00 0.0000e+00 2.0000e+00 0.0000e+00 1.0000e+00 0.0000e+00\n",
      " 0.0000e+00 0.0000e+00 0.0000e+00 0.0000e+00 0.0000e+00 0.0000e+00\n",
      " 0.0000e+00 1.0000e+00 0.0000e+00 0.0000e+00]\n",
      "2025-04-23 22:13:21,627 - root - INFO - epoch=35, loss=[1.0335e+04 2.6100e+02 8.0700e+02 6.0000e+01 2.2000e+01 2.0000e+00\n",
      " 1.1000e+01 2.5200e+02 6.7800e+02 1.1700e+02 1.5000e+01 6.0000e+00\n",
      " 0.0000e+00 1.0000e+00 2.0000e+01 0.0000e+00 9.0000e+00 0.0000e+00\n",
      " 2.0000e+00 0.0000e+00 2.0000e+00 0.0000e+00 1.0000e+00 0.0000e+00\n",
      " 0.0000e+00 0.0000e+00 0.0000e+00 0.0000e+00 0.0000e+00 0.0000e+00\n",
      " 0.0000e+00 1.0000e+00 0.0000e+00 0.0000e+00 0.0000e+00]\n",
      "2025-04-23 22:13:21,763 - root - INFO - epoch=36, loss=[1.0335e+04 2.6100e+02 8.0700e+02 6.0000e+01 2.2000e+01 2.0000e+00\n",
      " 1.1000e+01 2.5200e+02 6.7800e+02 1.1700e+02 1.5000e+01 6.0000e+00\n",
      " 0.0000e+00 1.0000e+00 2.0000e+01 0.0000e+00 9.0000e+00 0.0000e+00\n",
      " 2.0000e+00 0.0000e+00 2.0000e+00 0.0000e+00 1.0000e+00 0.0000e+00\n",
      " 0.0000e+00 0.0000e+00 0.0000e+00 0.0000e+00 0.0000e+00 0.0000e+00\n",
      " 0.0000e+00 1.0000e+00 0.0000e+00 0.0000e+00 0.0000e+00 0.0000e+00]\n",
      "2025-04-23 22:13:21,905 - root - INFO - epoch=37, loss=[1.0335e+04 2.6100e+02 8.0700e+02 6.0000e+01 2.2000e+01 2.0000e+00\n",
      " 1.1000e+01 2.5200e+02 6.7800e+02 1.1700e+02 1.5000e+01 6.0000e+00\n",
      " 0.0000e+00 1.0000e+00 2.0000e+01 0.0000e+00 9.0000e+00 0.0000e+00\n",
      " 2.0000e+00 0.0000e+00 2.0000e+00 0.0000e+00 1.0000e+00 0.0000e+00\n",
      " 0.0000e+00 0.0000e+00 0.0000e+00 0.0000e+00 0.0000e+00 0.0000e+00\n",
      " 0.0000e+00 1.0000e+00 0.0000e+00 0.0000e+00 0.0000e+00 0.0000e+00\n",
      " 0.0000e+00]\n",
      "2025-04-23 22:13:22,046 - root - INFO - epoch=38, loss=[1.0335e+04 2.6100e+02 8.0700e+02 6.0000e+01 2.2000e+01 2.0000e+00\n",
      " 1.1000e+01 2.5200e+02 6.7800e+02 1.1700e+02 1.5000e+01 6.0000e+00\n",
      " 0.0000e+00 1.0000e+00 2.0000e+01 0.0000e+00 9.0000e+00 0.0000e+00\n",
      " 2.0000e+00 0.0000e+00 2.0000e+00 0.0000e+00 1.0000e+00 0.0000e+00\n",
      " 0.0000e+00 0.0000e+00 0.0000e+00 0.0000e+00 0.0000e+00 0.0000e+00\n",
      " 0.0000e+00 1.0000e+00 0.0000e+00 0.0000e+00 0.0000e+00 0.0000e+00\n",
      " 0.0000e+00 0.0000e+00]\n",
      "2025-04-23 22:13:22,189 - root - INFO - epoch=39, loss=[1.0335e+04 2.6100e+02 8.0700e+02 6.0000e+01 2.2000e+01 2.0000e+00\n",
      " 1.1000e+01 2.5200e+02 6.7800e+02 1.1700e+02 1.5000e+01 6.0000e+00\n",
      " 0.0000e+00 1.0000e+00 2.0000e+01 0.0000e+00 9.0000e+00 0.0000e+00\n",
      " 2.0000e+00 0.0000e+00 2.0000e+00 0.0000e+00 1.0000e+00 0.0000e+00\n",
      " 0.0000e+00 0.0000e+00 0.0000e+00 0.0000e+00 0.0000e+00 0.0000e+00\n",
      " 0.0000e+00 1.0000e+00 0.0000e+00 0.0000e+00 0.0000e+00 0.0000e+00\n",
      " 0.0000e+00 0.0000e+00 0.0000e+00]\n",
      "2025-04-23 22:13:22,332 - root - INFO - epoch=40, loss=[1.0335e+04 2.6100e+02 8.0700e+02 6.0000e+01 2.2000e+01 2.0000e+00\n",
      " 1.1000e+01 2.5200e+02 6.7800e+02 1.1700e+02 1.5000e+01 6.0000e+00\n",
      " 0.0000e+00 1.0000e+00 2.0000e+01 0.0000e+00 9.0000e+00 0.0000e+00\n",
      " 2.0000e+00 0.0000e+00 2.0000e+00 0.0000e+00 1.0000e+00 0.0000e+00\n",
      " 0.0000e+00 0.0000e+00 0.0000e+00 0.0000e+00 0.0000e+00 0.0000e+00\n",
      " 0.0000e+00 1.0000e+00 0.0000e+00 0.0000e+00 0.0000e+00 0.0000e+00\n",
      " 0.0000e+00 0.0000e+00 0.0000e+00 0.0000e+00]\n",
      "2025-04-23 22:13:22,483 - root - INFO - epoch=41, loss=[1.0335e+04 2.6100e+02 8.0700e+02 6.0000e+01 2.2000e+01 2.0000e+00\n",
      " 1.1000e+01 2.5200e+02 6.7800e+02 1.1700e+02 1.5000e+01 6.0000e+00\n",
      " 0.0000e+00 1.0000e+00 2.0000e+01 0.0000e+00 9.0000e+00 0.0000e+00\n",
      " 2.0000e+00 0.0000e+00 2.0000e+00 0.0000e+00 1.0000e+00 0.0000e+00\n",
      " 0.0000e+00 0.0000e+00 0.0000e+00 0.0000e+00 0.0000e+00 0.0000e+00\n",
      " 0.0000e+00 1.0000e+00 0.0000e+00 0.0000e+00 0.0000e+00 0.0000e+00\n",
      " 0.0000e+00 0.0000e+00 0.0000e+00 0.0000e+00 0.0000e+00]\n",
      "2025-04-23 22:13:22,621 - root - INFO - epoch=42, loss=[1.0335e+04 2.6100e+02 8.0700e+02 6.0000e+01 2.2000e+01 2.0000e+00\n",
      " 1.1000e+01 2.5200e+02 6.7800e+02 1.1700e+02 1.5000e+01 6.0000e+00\n",
      " 0.0000e+00 1.0000e+00 2.0000e+01 0.0000e+00 9.0000e+00 0.0000e+00\n",
      " 2.0000e+00 0.0000e+00 2.0000e+00 0.0000e+00 1.0000e+00 0.0000e+00\n",
      " 0.0000e+00 0.0000e+00 0.0000e+00 0.0000e+00 0.0000e+00 0.0000e+00\n",
      " 0.0000e+00 1.0000e+00 0.0000e+00 0.0000e+00 0.0000e+00 0.0000e+00\n",
      " 0.0000e+00 0.0000e+00 0.0000e+00 0.0000e+00 0.0000e+00 0.0000e+00]\n",
      "2025-04-23 22:13:22,767 - root - INFO - epoch=43, loss=[1.0335e+04 2.6100e+02 8.0700e+02 6.0000e+01 2.2000e+01 2.0000e+00\n",
      " 1.1000e+01 2.5200e+02 6.7800e+02 1.1700e+02 1.5000e+01 6.0000e+00\n",
      " 0.0000e+00 1.0000e+00 2.0000e+01 0.0000e+00 9.0000e+00 0.0000e+00\n",
      " 2.0000e+00 0.0000e+00 2.0000e+00 0.0000e+00 1.0000e+00 0.0000e+00\n",
      " 0.0000e+00 0.0000e+00 0.0000e+00 0.0000e+00 0.0000e+00 0.0000e+00\n",
      " 0.0000e+00 1.0000e+00 0.0000e+00 0.0000e+00 0.0000e+00 0.0000e+00\n",
      " 0.0000e+00 0.0000e+00 0.0000e+00 0.0000e+00 0.0000e+00 0.0000e+00\n",
      " 0.0000e+00]\n",
      "2025-04-23 22:13:22,911 - root - INFO - epoch=44, loss=[1.0335e+04 2.6100e+02 8.0700e+02 6.0000e+01 2.2000e+01 2.0000e+00\n",
      " 1.1000e+01 2.5200e+02 6.7800e+02 1.1700e+02 1.5000e+01 6.0000e+00\n",
      " 0.0000e+00 1.0000e+00 2.0000e+01 0.0000e+00 9.0000e+00 0.0000e+00\n",
      " 2.0000e+00 0.0000e+00 2.0000e+00 0.0000e+00 1.0000e+00 0.0000e+00\n",
      " 0.0000e+00 0.0000e+00 0.0000e+00 0.0000e+00 0.0000e+00 0.0000e+00\n",
      " 0.0000e+00 1.0000e+00 0.0000e+00 0.0000e+00 0.0000e+00 0.0000e+00\n",
      " 0.0000e+00 0.0000e+00 0.0000e+00 0.0000e+00 0.0000e+00 0.0000e+00\n",
      " 0.0000e+00 0.0000e+00]\n",
      "2025-04-23 22:13:23,054 - root - INFO - epoch=45, loss=[1.0335e+04 2.6100e+02 8.0700e+02 6.0000e+01 2.2000e+01 2.0000e+00\n",
      " 1.1000e+01 2.5200e+02 6.7800e+02 1.1700e+02 1.5000e+01 6.0000e+00\n",
      " 0.0000e+00 1.0000e+00 2.0000e+01 0.0000e+00 9.0000e+00 0.0000e+00\n",
      " 2.0000e+00 0.0000e+00 2.0000e+00 0.0000e+00 1.0000e+00 0.0000e+00\n",
      " 0.0000e+00 0.0000e+00 0.0000e+00 0.0000e+00 0.0000e+00 0.0000e+00\n",
      " 0.0000e+00 1.0000e+00 0.0000e+00 0.0000e+00 0.0000e+00 0.0000e+00\n",
      " 0.0000e+00 0.0000e+00 0.0000e+00 0.0000e+00 0.0000e+00 0.0000e+00\n",
      " 0.0000e+00 0.0000e+00 0.0000e+00]\n",
      "2025-04-23 22:13:23,200 - root - INFO - epoch=46, loss=[1.0335e+04 2.6100e+02 8.0700e+02 6.0000e+01 2.2000e+01 2.0000e+00\n",
      " 1.1000e+01 2.5200e+02 6.7800e+02 1.1700e+02 1.5000e+01 6.0000e+00\n",
      " 0.0000e+00 1.0000e+00 2.0000e+01 0.0000e+00 9.0000e+00 0.0000e+00\n",
      " 2.0000e+00 0.0000e+00 2.0000e+00 0.0000e+00 1.0000e+00 0.0000e+00\n",
      " 0.0000e+00 0.0000e+00 0.0000e+00 0.0000e+00 0.0000e+00 0.0000e+00\n",
      " 0.0000e+00 1.0000e+00 0.0000e+00 0.0000e+00 0.0000e+00 0.0000e+00\n",
      " 0.0000e+00 0.0000e+00 0.0000e+00 0.0000e+00 0.0000e+00 0.0000e+00\n",
      " 0.0000e+00 0.0000e+00 0.0000e+00 0.0000e+00]\n",
      "2025-04-23 22:13:23,339 - root - INFO - epoch=47, loss=[1.0335e+04 2.6100e+02 8.0700e+02 6.0000e+01 2.2000e+01 2.0000e+00\n",
      " 1.1000e+01 2.5200e+02 6.7800e+02 1.1700e+02 1.5000e+01 6.0000e+00\n",
      " 0.0000e+00 1.0000e+00 2.0000e+01 0.0000e+00 9.0000e+00 0.0000e+00\n",
      " 2.0000e+00 0.0000e+00 2.0000e+00 0.0000e+00 1.0000e+00 0.0000e+00\n",
      " 0.0000e+00 0.0000e+00 0.0000e+00 0.0000e+00 0.0000e+00 0.0000e+00\n",
      " 0.0000e+00 1.0000e+00 0.0000e+00 0.0000e+00 0.0000e+00 0.0000e+00\n",
      " 0.0000e+00 0.0000e+00 0.0000e+00 0.0000e+00 0.0000e+00 0.0000e+00\n",
      " 0.0000e+00 0.0000e+00 0.0000e+00 0.0000e+00 0.0000e+00]\n",
      "2025-04-23 22:13:23,484 - root - INFO - epoch=48, loss=[1.0335e+04 2.6100e+02 8.0700e+02 6.0000e+01 2.2000e+01 2.0000e+00\n",
      " 1.1000e+01 2.5200e+02 6.7800e+02 1.1700e+02 1.5000e+01 6.0000e+00\n",
      " 0.0000e+00 1.0000e+00 2.0000e+01 0.0000e+00 9.0000e+00 0.0000e+00\n",
      " 2.0000e+00 0.0000e+00 2.0000e+00 0.0000e+00 1.0000e+00 0.0000e+00\n",
      " 0.0000e+00 0.0000e+00 0.0000e+00 0.0000e+00 0.0000e+00 0.0000e+00\n",
      " 0.0000e+00 1.0000e+00 0.0000e+00 0.0000e+00 0.0000e+00 0.0000e+00\n",
      " 0.0000e+00 0.0000e+00 0.0000e+00 0.0000e+00 0.0000e+00 0.0000e+00\n",
      " 0.0000e+00 0.0000e+00 0.0000e+00 0.0000e+00 0.0000e+00 0.0000e+00]\n",
      "2025-04-23 22:13:23,625 - root - INFO - epoch=49, loss=[1.0335e+04 2.6100e+02 8.0700e+02 6.0000e+01 2.2000e+01 2.0000e+00\n",
      " 1.1000e+01 2.5200e+02 6.7800e+02 1.1700e+02 1.5000e+01 6.0000e+00\n",
      " 0.0000e+00 1.0000e+00 2.0000e+01 0.0000e+00 9.0000e+00 0.0000e+00\n",
      " 2.0000e+00 0.0000e+00 2.0000e+00 0.0000e+00 1.0000e+00 0.0000e+00\n",
      " 0.0000e+00 0.0000e+00 0.0000e+00 0.0000e+00 0.0000e+00 0.0000e+00\n",
      " 0.0000e+00 1.0000e+00 0.0000e+00 0.0000e+00 0.0000e+00 0.0000e+00\n",
      " 0.0000e+00 0.0000e+00 0.0000e+00 0.0000e+00 0.0000e+00 0.0000e+00\n",
      " 0.0000e+00 0.0000e+00 0.0000e+00 0.0000e+00 0.0000e+00 0.0000e+00\n",
      " 0.0000e+00]\n",
      "2025-04-23 22:13:23,766 - root - INFO - epoch=50, loss=[1.0335e+04 2.6100e+02 8.0700e+02 6.0000e+01 2.2000e+01 2.0000e+00\n",
      " 1.1000e+01 2.5200e+02 6.7800e+02 1.1700e+02 1.5000e+01 6.0000e+00\n",
      " 0.0000e+00 1.0000e+00 2.0000e+01 0.0000e+00 9.0000e+00 0.0000e+00\n",
      " 2.0000e+00 0.0000e+00 2.0000e+00 0.0000e+00 1.0000e+00 0.0000e+00\n",
      " 0.0000e+00 0.0000e+00 0.0000e+00 0.0000e+00 0.0000e+00 0.0000e+00\n",
      " 0.0000e+00 1.0000e+00 0.0000e+00 0.0000e+00 0.0000e+00 0.0000e+00\n",
      " 0.0000e+00 0.0000e+00 0.0000e+00 0.0000e+00 0.0000e+00 0.0000e+00\n",
      " 0.0000e+00 0.0000e+00 0.0000e+00 0.0000e+00 0.0000e+00 0.0000e+00\n",
      " 0.0000e+00 0.0000e+00]\n",
      "2025-04-23 22:13:23,767 - root - INFO - scBCN training done....\n",
      "2025-04-23 22:13:23,767 - root - INFO - extract embedding for dataset with trained network\n",
      "                                         \r"
     ]
    }
   ],
   "source": [
    "# 后续更改\n",
    "n_cluster=4\n",
    "scbcn.integrate(adata, batch_key=\"BATCH\", n_cluster=n_cluster, k=10, walk_steps=20, expect_num_cluster=n_cluster)\n",
    "adata.obs[\"cluster_celltype\"]=adata.obs[\"reassign_cluster\"].copy()"
   ]
  },
  {
   "cell_type": "code",
   "execution_count": 12,
   "id": "9adfe7c4-e8fb-4a68-9bf4-573a751533ec",
   "metadata": {},
   "outputs": [
    {
     "name": "stdout",
     "output_type": "stream",
     "text": [
      "WARNING: saving figure to file /root/autodl-tmp/evaluation/sim1/scBCN/umap_sim1_scBCN_corrected.png\n"
     ]
    }
   ],
   "source": [
    "sc.pp.neighbors(adata, random_state=0, use_rep=\"X_emb\")\n",
    "sc.tl.umap(adata)\n",
    "sc.pl.umap(adata,color=[\"BATCH\",\"celltype\"], save=\"_\"+dataset+\"_\"+method+\"_corrected.png\")"
   ]
  },
  {
   "cell_type": "code",
   "execution_count": 13,
   "id": "e99bb5bd-f489-4931-8890-4f36430cb01c",
   "metadata": {},
   "outputs": [
    {
     "name": "stdout",
     "output_type": "stream",
     "text": [
      "done\n"
     ]
    }
   ],
   "source": [
    "adata.write(save_dir+dataset+\"/\"+method+\"/\"+dataset+\"_\"+method+\"_corrected.h5ad\")\n",
    "print(\"done\")"
   ]
  },
  {
   "cell_type": "markdown",
   "id": "9405873f-6c1b-4547-8055-e84e7ddbd34e",
   "metadata": {},
   "source": [
    "### metrics output"
   ]
  },
  {
   "cell_type": "code",
   "execution_count": 14,
   "id": "0539f82a-2d6b-41db-87e4-07731762c0ce",
   "metadata": {},
   "outputs": [
    {
     "name": "stdout",
     "output_type": "stream",
     "text": [
      "/usr/local/nvidia/lib:/usr/local/nvidia/lib64\n",
      "/root/miniconda3/envs/sc/lib/R\n"
     ]
    }
   ],
   "source": [
    "import os\n",
    "os.getcwd()\n",
    "print(os.environ[\"LD_LIBRARY_PATH\"])\n",
    "os.environ['R_HOME'] = '/root/miniconda3/envs/sc/lib/R'\n",
    "print(os.environ['R_HOME'])"
   ]
  },
  {
   "cell_type": "code",
   "execution_count": 15,
   "id": "ba7b51c2-47a4-4f67-8f4c-031d690b4c40",
   "metadata": {},
   "outputs": [
    {
     "name": "stderr",
     "output_type": "stream",
     "text": [
      "2025-04-23 22:13:28,347 - rpy2.situation - INFO - cffi mode is CFFI_MODE.ANY\n",
      "2025-04-23 22:13:28,352 - rpy2.situation - INFO - R home found: /root/miniconda3/envs/sc/lib/R\n",
      "2025-04-23 22:13:28,512 - rpy2.situation - INFO - R library path: /usr/local/nvidia/lib:/usr/local/nvidia/lib64\n",
      "2025-04-23 22:13:28,513 - rpy2.situation - INFO - LD_LIBRARY_PATH: /usr/local/nvidia/lib:/usr/local/nvidia/lib64\n",
      "2025-04-23 22:13:28,516 - rpy2.rinterface_lib.embedded - INFO - Default options to initialize R: rpy2, --quiet, --no-save\n",
      "2025-04-23 22:13:28,723 - rpy2.rinterface_lib.embedded - INFO - R is already initialized. No need to initialize.\n"
     ]
    }
   ],
   "source": [
    "from metrics import evaluate_dataset"
   ]
  },
  {
   "cell_type": "code",
   "execution_count": 16,
   "id": "8de0ce5c-3cce-493a-9370-f186ed25712e",
   "metadata": {},
   "outputs": [],
   "source": [
    "adata_integrated = sc.read_h5ad(save_dir+dataset+\"/\"+method+\"/\"+dataset+\"_\"+method+\"_corrected.h5ad\")"
   ]
  },
  {
   "cell_type": "code",
   "execution_count": 17,
   "id": "0f744fbe-9f5c-4860-a90b-079e8a3f97a9",
   "metadata": {},
   "outputs": [],
   "source": [
    "adata_new=sc.AnnData(adata_integrated.obsm[\"X_emb\"])\n",
    "adata_new.obs=adata_integrated.obs.copy()\n",
    "adata_integrated=adata_new.copy()\n",
    "adata_integrated.obsm[\"X_emb\"]=adata_integrated.X.copy()"
   ]
  },
  {
   "cell_type": "code",
   "execution_count": 18,
   "id": "ee7f5fa6-575f-45ae-8702-0c3943a011ad",
   "metadata": {},
   "outputs": [
    {
     "name": "stdout",
     "output_type": "stream",
     "text": [
      "...... method=scBCN ......\n",
      "ARI: 1.0\n",
      "NMI: 1.0\n",
      "ASW_celltype = 0.8612532317638397\n",
      "BatchKL= [0.14476046]\n",
      "ilisi= 2.6587165361070397\n",
      "              scBCN\n",
      "ARI           1.000\n",
      "NMI           1.000\n",
      "ASW_celltype  0.861\n",
      "BatchKL       0.145\n",
      "iLISI         2.659\n"
     ]
    }
   ],
   "source": [
    "adata_integrated,scBCN3_eva=evaluate_dataset(adata_integrated,method=method,n_cluster=n_cluster)\n",
    "print(scBCN3_eva)"
   ]
  },
  {
   "cell_type": "code",
   "execution_count": null,
   "id": "1a25150f-d03c-454c-bc6d-056cc5e58919",
   "metadata": {},
   "outputs": [],
   "source": []
  }
 ],
 "metadata": {
  "kernelspec": {
   "display_name": "sc",
   "language": "python",
   "name": "sc"
  },
  "language_info": {
   "codemirror_mode": {
    "name": "ipython",
    "version": 3
   },
   "file_extension": ".py",
   "mimetype": "text/x-python",
   "name": "python",
   "nbconvert_exporter": "python",
   "pygments_lexer": "ipython3",
   "version": "3.10.13"
  }
 },
 "nbformat": 4,
 "nbformat_minor": 5
}
