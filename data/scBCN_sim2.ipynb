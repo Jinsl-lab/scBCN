{
 "cells": [
  {
   "cell_type": "markdown",
   "id": "923f7b63-c2bf-4fc9-8249-e9cccd490d9d",
   "metadata": {},
   "source": [
    "### integration"
   ]
  },
  {
   "cell_type": "code",
   "execution_count": 1,
   "id": "441dce6b-5e77-4c7e-bcb9-69b02acf5051",
   "metadata": {},
   "outputs": [
    {
     "name": "stderr",
     "output_type": "stream",
     "text": [
      "Duplicate key in file PosixPath('/root/miniconda3/envs/sc/lib/python3.10/site-packages/matplotlib/mpl-data/matplotlibrc'), line 805 ('font.family:  sans-serif')\n",
      "Duplicate key in file PosixPath('/root/miniconda3/envs/sc/lib/python3.10/site-packages/matplotlib/mpl-data/matplotlibrc'), line 806 ('font.sans-serif: SimHei, DejaVu Sans, Bitstream Vera Sans, Computer Modern Sans Serif, Lucida Grande, Verdana, Geneva, Lucid, Arial, Helvetica, Avant Garde, sans-serif')\n",
      "Duplicate key in file PosixPath('/root/miniconda3/envs/sc/lib/python3.10/site-packages/matplotlib/mpl-data/matplotlibrc'), line 807 ('axes.unicode_minus: False')\n"
     ]
    }
   ],
   "source": [
    "import scanpy as sc \n",
    "import matplotlib\n",
    "import argparse\n",
    "matplotlib.use(\"Agg\")"
   ]
  },
  {
   "cell_type": "code",
   "execution_count": 2,
   "id": "30af6246-b73a-4bb9-9d49-167135a677a3",
   "metadata": {},
   "outputs": [],
   "source": [
    "%run scBCN.py\n",
    "from scBCN import scBCNModel"
   ]
  },
  {
   "cell_type": "code",
   "execution_count": 3,
   "id": "c8420905-cb7e-4698-bab8-4c3f797d3e09",
   "metadata": {},
   "outputs": [],
   "source": [
    "import warnings\n",
    "warnings.filterwarnings('ignore')\n",
    "warnings.simplefilter('ignore')"
   ]
  },
  {
   "cell_type": "code",
   "execution_count": 4,
   "id": "507697b4-8585-48b3-95a4-da817f5f5967",
   "metadata": {
    "tags": []
   },
   "outputs": [
    {
     "name": "stdout",
     "output_type": "stream",
     "text": [
      "method= scBCN\n"
     ]
    },
    {
     "name": "stderr",
     "output_type": "stream",
     "text": [
      "usage: ipykernel_launcher.py [-h] --dataset DATASET --filepath FILEPATH\n",
      "                             --ncelltype NCELLTYPE [--k K]\n",
      "                             [--resolution RESOLUTION] [--n_hvg N_HVG]\n",
      "                             [--verbose VERBOSE] --savedir SAVEDIR\n",
      "                             [--save SAVE]\n",
      "ipykernel_launcher.py: error: the following arguments are required: --dataset, --filepath, --ncelltype, --savedir\n"
     ]
    },
    {
     "ename": "SystemExit",
     "evalue": "2",
     "output_type": "error",
     "traceback": [
      "An exception has occurred, use %tb to see the full traceback.\n",
      "\u001b[0;31mSystemExit\u001b[0m\u001b[0;31m:\u001b[0m 2\n"
     ]
    }
   ],
   "source": [
    "# 解析命令行参数\n",
    "method=\"scBCN\"\n",
    "parser = argparse.ArgumentParser()  # 添加多个命令行参数的定义\n",
    "parser.add_argument('--dataset',type=str,required=True, help='dataset name')\n",
    "parser.add_argument(\"--filepath\",type=str,required=True,help=\"folder path of stored data\")\n",
    "parser.add_argument(\"--ncelltype\",type=int,required=True,help=\"number of celltype in dataset\")\n",
    "parser.add_argument(\"--k\",type=int,default=10,help=\"k value to calculate MNN pair\")\n",
    "parser.add_argument(\"--resolution\",type=float,default=3.0,help=\"resolution of clustering algorithm\")\n",
    "parser.add_argument(\"--n_hvg\",type=int,default=2000,help=\"number of highly variable genes to be selected\")\n",
    "parser.add_argument(\"--verbose\",type=bool,default=True,help=\"print additional information\")\n",
    "parser.add_argument(\"--savedir\",type=str,required=True,help=\"where to save data\")\n",
    "parser.add_argument(\"--save\",type=bool,default=True,help=\"whether to save data\")\n",
    "print(\"method=\",method)\n",
    "args=parser.parse_args()  # 将解析结果存储在args变量中\n",
    "print(\"dataset=\",args.dataset)\n",
    "dataset=args.dataset\n",
    "filepath=args.filepath\n",
    "ncelltype=args.ncelltype\n",
    "k=args.k\n",
    "resolution=args.resolution\n",
    "n_hvg=args.n_hvg\n",
    "verbose=args.verbose\n",
    "savedir=args.savedir\n",
    "save=args.save\n",
    "save_figdir=savedir"
   ]
  },
  {
   "cell_type": "code",
   "execution_count": 5,
   "id": "a7850f39-627a-4757-821d-dbf5a4bbc215",
   "metadata": {},
   "outputs": [],
   "source": [
    "# 后续更改\n",
    "filepath = '/root/autodl-tmp/data/sim2'\n",
    "dataset = 'sim2'\n",
    "save_figdir = '/root/autodl-tmp/evaluation/'\n",
    "save_dir = '/root/autodl-tmp/evaluation/'"
   ]
  },
  {
   "cell_type": "code",
   "execution_count": 6,
   "id": "1d7ebaa6-788e-4197-b84f-8d1f8fef2fba",
   "metadata": {},
   "outputs": [
    {
     "data": {
      "text/plain": [
       "AnnData object with n_obs × n_vars = 19318 × 10000\n",
       "    obs: 'Cell', 'Batch', 'Group', 'ExpLibSize', 'SubBatch', 'Sub', 'sum', 'detected', 'percent_top_50', 'percent_top_100', 'percent_top_200', 'percent_top_500', 'total', 'Discard', 'size_factors', 'BATCH', 'celltype'\n",
       "    var: 'Gene', 'BaseGeneMean', 'OutlierFactor', 'GeneMean', 'BatchFacBatch1', 'BatchFacBatch2', 'BatchFacBatch3', 'BatchFacBatch4', 'DEFacGroup1', 'DEFacGroup2', 'DEFacGroup3', 'DEFacGroup4', 'mean', 'detected'"
      ]
     },
     "execution_count": 6,
     "metadata": {},
     "output_type": "execute_result"
    }
   ],
   "source": [
    "dataset_path=filepath+\"/\"+dataset+\"_raw.h5ad\"# \n",
    "adata_raw=sc.read(dataset_path)\n",
    "sc.settings.figdir=save_figdir+dataset+\"/\"+method+\"/\"\n",
    "adata_raw"
   ]
  },
  {
   "cell_type": "code",
   "execution_count": 7,
   "id": "153fffe1-2ea2-439d-b1d3-295c4559a426",
   "metadata": {
    "tags": []
   },
   "outputs": [
    {
     "name": "stdout",
     "output_type": "stream",
     "text": [
      "====== print brief infomation of dataset ======\n",
      "====== there are 4 batchs in this dataset ======\n",
      "====== there are 4 celltypes with this dataset ======\n"
     ]
    },
    {
     "data": {
      "text/html": [
       "<div>\n",
       "<style scoped>\n",
       "    .dataframe tbody tr th:only-of-type {\n",
       "        vertical-align: middle;\n",
       "    }\n",
       "\n",
       "    .dataframe tbody tr th {\n",
       "        vertical-align: top;\n",
       "    }\n",
       "\n",
       "    .dataframe thead th {\n",
       "        text-align: right;\n",
       "    }\n",
       "</style>\n",
       "<table border=\"1\" class=\"dataframe\">\n",
       "  <thead>\n",
       "    <tr style=\"text-align: right;\">\n",
       "      <th>celltype</th>\n",
       "      <th>Group1</th>\n",
       "      <th>Group2</th>\n",
       "      <th>Group3</th>\n",
       "      <th>Group4</th>\n",
       "      <th>Total</th>\n",
       "    </tr>\n",
       "    <tr>\n",
       "      <th>BATCH</th>\n",
       "      <th></th>\n",
       "      <th></th>\n",
       "      <th></th>\n",
       "      <th></th>\n",
       "      <th></th>\n",
       "    </tr>\n",
       "  </thead>\n",
       "  <tbody>\n",
       "    <tr>\n",
       "      <th>Batch1</th>\n",
       "      <td>1682</td>\n",
       "      <td>1058</td>\n",
       "      <td>1212</td>\n",
       "      <td>854</td>\n",
       "      <td>4806</td>\n",
       "    </tr>\n",
       "    <tr>\n",
       "      <th>Batch2</th>\n",
       "      <td>1198</td>\n",
       "      <td>1921</td>\n",
       "      <td>1303</td>\n",
       "      <td>483</td>\n",
       "      <td>4905</td>\n",
       "    </tr>\n",
       "    <tr>\n",
       "      <th>Batch3</th>\n",
       "      <td>1446</td>\n",
       "      <td>726</td>\n",
       "      <td>1673</td>\n",
       "      <td>964</td>\n",
       "      <td>4809</td>\n",
       "    </tr>\n",
       "    <tr>\n",
       "      <th>Batch4</th>\n",
       "      <td>481</td>\n",
       "      <td>1447</td>\n",
       "      <td>953</td>\n",
       "      <td>1917</td>\n",
       "      <td>4798</td>\n",
       "    </tr>\n",
       "    <tr>\n",
       "      <th>Total</th>\n",
       "      <td>4807</td>\n",
       "      <td>5152</td>\n",
       "      <td>5141</td>\n",
       "      <td>4218</td>\n",
       "      <td>19318</td>\n",
       "    </tr>\n",
       "  </tbody>\n",
       "</table>\n",
       "</div>"
      ],
      "text/plain": [
       "celltype  Group1  Group2  Group3  Group4  Total\n",
       "BATCH                                          \n",
       "Batch1      1682    1058    1212     854   4806\n",
       "Batch2      1198    1921    1303     483   4905\n",
       "Batch3      1446     726    1673     964   4809\n",
       "Batch4       481    1447     953    1917   4798\n",
       "Total       4807    5152    5141    4218  19318"
      ]
     },
     "metadata": {},
     "output_type": "display_data"
    }
   ],
   "source": [
    "#from scBCN import print_dataset_information\n",
    "print_dataset_information(adata_raw, batch_key=\"BATCH\", celltype_key=\"celltype\")"
   ]
  },
  {
   "cell_type": "code",
   "execution_count": 8,
   "id": "50733678-8f1b-4f53-8d5f-dcbffed31b36",
   "metadata": {},
   "outputs": [
    {
     "name": "stderr",
     "output_type": "stream",
     "text": [
      "2025-04-23 22:16:44,743 - root - INFO - Create log file....\n",
      "2025-04-23 22:16:44,744 - root - INFO - Create scBCNModel Object Done....\n"
     ]
    }
   ],
   "source": [
    "method=\"scBCN\"\n",
    "scbcn=scBCNModel(save_dir=save_figdir+dataset+\"/\"+method+\"/\")"
   ]
  },
  {
   "cell_type": "code",
   "execution_count": 9,
   "id": "504bde66-3177-4466-bfea-b63727e61644",
   "metadata": {
    "tags": []
   },
   "outputs": [
    {
     "name": "stderr",
     "output_type": "stream",
     "text": [
      "2025-04-23 22:16:52,002 - root - INFO - Running preprocess() function...\n",
      "2025-04-23 22:16:52,002 - root - INFO - Leiden (resolution=3.0)\n",
      "2025-04-23 22:16:52,003 - root - INFO - BATCH_key=BATCH\n",
      "2025-04-23 22:16:52,004 - root - INFO - Normalize counts per cell(sum=10000.0)\n",
      "2025-04-23 22:16:52,413 - root - INFO - Log1p data\n",
      "2025-04-23 22:16:52,602 - root - INFO - Select HVG(n_top_genes=2000)\n",
      "2025-04-23 22:16:56,145 - root - INFO - Scale batch(scale_value=10.0)\n",
      "2025-04-23 22:16:57,140 - root - INFO - Calculate PCA(n_comps=100)\n"
     ]
    },
    {
     "name": "stdout",
     "output_type": "stream",
     "text": [
      "WARNING: You’re trying to run this on 100 dimensions of `.X`, if you really want this, set `use_rep='X'`.\n",
      "         Falling back to preprocessing with `sc.pp.pca` and default params.\n"
     ]
    },
    {
     "name": "stderr",
     "output_type": "stream",
     "text": [
      "2025-04-23 22:17:39,352 - root - INFO - Apply leiden clustring(resolution=3.0)  initization\n",
      "2025-04-23 22:17:39,356 - root - INFO - Number of Cluster =40\n",
      "2025-04-23 22:17:39,357 - root - INFO - clusters=[0, 1, 2, 3, 4, 5, 6, 7, 8, 9, 10, 11, 12, 13, 14, 15, 16, 17, 18, 19, 20, 21, 22, 23, 24, 25, 26, 27, 28, 29, 30, 31, 32, 33, 34, 35, 36, 37, 38, 39]\n",
      "2025-04-23 22:17:39,359 - root - INFO - Preprocess Dataset Done...\n"
     ]
    },
    {
     "name": "stdout",
     "output_type": "stream",
     "text": [
      "AnnData object with n_obs × n_vars = 19318 × 2000\n",
      "    obs: 'Cell', 'Batch', 'Group', 'ExpLibSize', 'SubBatch', 'Sub', 'sum', 'detected', 'percent_top_50', 'percent_top_100', 'percent_top_200', 'percent_top_500', 'total', 'Discard', 'size_factors', 'BATCH', 'celltype', 'batch', 'init_cluster'\n",
      "    var: 'Gene', 'BaseGeneMean', 'OutlierFactor', 'GeneMean', 'BatchFacBatch1', 'BatchFacBatch2', 'BatchFacBatch3', 'BatchFacBatch4', 'DEFacGroup1', 'DEFacGroup2', 'DEFacGroup3', 'DEFacGroup4', 'detected', 'highly_variable', 'means', 'dispersions', 'dispersions_norm', 'mean-0', 'std-0', 'mean-1', 'std-1', 'mean-2', 'std-2', 'mean-3', 'std-3'\n",
      "    uns: 'pca'\n",
      "    obsm: 'X_pca'\n",
      "    varm: 'PCs'\n"
     ]
    }
   ],
   "source": [
    "adata=scbcn.preprocess(adata_raw, resolution=3.0, n_high_var=2000)\n",
    "print(adata)"
   ]
  },
  {
   "cell_type": "code",
   "execution_count": 10,
   "id": "3116ecbb-5472-4760-a943-a412de76fc81",
   "metadata": {
    "tags": []
   },
   "outputs": [
    {
     "name": "stderr",
     "output_type": "stream",
     "text": [
      "2025-04-23 22:17:48,442 - root - INFO - k=10\n",
      "2025-04-23 22:17:48,444 - root - INFO - Calculate similarity of cluster with MNN\n",
      "2025-04-23 22:17:48,444 - root - INFO - Appoximate calculate MNN pairs intra batch and inter batch...\n",
      "2025-04-23 22:17:48,455 - root - INFO - Calculate MNN pairs intra batch and inter batch...........\n",
      "2025-04-23 22:17:48,455 - root - INFO - k=10\n",
      "2025-04-23 22:17:48,456 - root - INFO - Processing datasets: (0, 0) = ('Batch1', 'Batch1')\n",
      "2025-04-23 22:17:49,178 - root - INFO - There are (121962) MNN pairs when processing (0, 0)=('Batch1', 'Batch1')\n",
      "2025-04-23 22:17:49,180 - root - INFO - Processing datasets: (0, 1) = ('Batch1', 'Batch2')\n",
      "2025-04-23 22:17:49,725 - root - INFO - There are (65845) MNN pairs when processing (0, 1)=('Batch1', 'Batch2')\n",
      "2025-04-23 22:17:49,726 - root - INFO - Processing datasets: (0, 2) = ('Batch1', 'Batch3')\n",
      "2025-04-23 22:17:50,315 - root - INFO - There are (70402) MNN pairs when processing (0, 2)=('Batch1', 'Batch3')\n",
      "2025-04-23 22:17:50,317 - root - INFO - Processing datasets: (0, 3) = ('Batch1', 'Batch4')\n",
      "2025-04-23 22:17:50,811 - root - INFO - There are (57596) MNN pairs when processing (0, 3)=('Batch1', 'Batch4')\n",
      "2025-04-23 22:17:50,812 - root - INFO - Processing datasets: (1, 1) = ('Batch2', 'Batch2')\n",
      "2025-04-23 22:17:51,688 - root - INFO - There are (117340) MNN pairs when processing (1, 1)=('Batch2', 'Batch2')\n",
      "2025-04-23 22:17:51,690 - root - INFO - Processing datasets: (1, 2) = ('Batch2', 'Batch3')\n",
      "2025-04-23 22:17:52,309 - root - INFO - There are (77300) MNN pairs when processing (1, 2)=('Batch2', 'Batch3')\n",
      "2025-04-23 22:17:52,311 - root - INFO - Processing datasets: (1, 3) = ('Batch2', 'Batch4')\n",
      "2025-04-23 22:17:52,901 - root - INFO - There are (68611) MNN pairs when processing (1, 3)=('Batch2', 'Batch4')\n",
      "2025-04-23 22:17:52,902 - root - INFO - Processing datasets: (2, 2) = ('Batch3', 'Batch3')\n",
      "2025-04-23 22:17:54,245 - root - INFO - There are (127774) MNN pairs when processing (2, 2)=('Batch3', 'Batch3')\n",
      "2025-04-23 22:17:54,246 - root - INFO - Processing datasets: (2, 3) = ('Batch3', 'Batch4')\n",
      "2025-04-23 22:17:54,867 - root - INFO - There are (62513) MNN pairs when processing (2, 3)=('Batch3', 'Batch4')\n",
      "2025-04-23 22:17:54,868 - root - INFO - Processing datasets: (3, 3) = ('Batch4', 'Batch4')\n",
      "2025-04-23 22:17:55,850 - root - INFO - There are (138684) MNN pairs when processing (3, 3)=('Batch4', 'Batch4')\n",
      "2025-04-23 22:17:55,851 - root - INFO - scBCN finds (908027) MNN pairs in dataset finally\n",
      "2025-04-23 22:17:55,854 - root - INFO - Find All Nearest Neighbours Done....\n",
      "2025-04-23 22:17:55,855 - root - INFO - Calculate similarity matrix between clusters\n",
      "2025-04-23 22:17:56,583 - root - INFO - mnn_summary is not symmetric!\n",
      "2025-04-23 22:17:56,792 - root - INFO - 434760 MNN pairs link different clusters\n",
      "2025-04-23 22:17:56,798 - root - INFO - Save correlation matrix to file....\n",
      "2025-04-23 22:17:56,802 - root - INFO - Save MNN pairs matrix to file\n",
      "2025-04-23 22:17:56,803 - root - INFO - Calculate similarity matrix done!\n",
      "2025-04-23 22:18:03,653 - root - INFO - Merging cluster list:[['0', '7', '8', '15', '17', '22', '23', '25'], ['1', '2', '9', '16', '19', '26', '28', '30', '32', '33', '36', '39'], ['3', '6', '10', '12', '13', '14', '27', '29', '31', '35', '37', '38'], ['4', '5', '11', '18', '20', '21', '24', '34']]\n",
      "2025-04-23 22:18:03,655 - root - INFO - Build ResidualNet for scBCN training\n",
      "2025-04-23 22:18:03,687 - root - INFO - ResidualNet(\n",
      "  (linear1): Linear(in_features=2000, out_features=256, bias=True)\n",
      "  (relu): PReLU(num_parameters=1)\n",
      "  (blocks): ModuleList(\n",
      "    (0-1): 2 x ResidualBlock(\n",
      "      (linear1): Linear(in_features=256, out_features=256, bias=True)\n",
      "      (bn1): BatchNorm1d(256, eps=1e-05, momentum=0.1, affine=True, track_running_stats=True)\n",
      "      (relu): PReLU(num_parameters=1)\n",
      "      (linear2): Linear(in_features=256, out_features=256, bias=True)\n",
      "      (bn2): BatchNorm1d(256, eps=1e-05, momentum=0.1, affine=True, track_running_stats=True)\n",
      "    )\n",
      "  )\n",
      "  (linear2): Linear(in_features=256, out_features=32, bias=True)\n",
      ")\n",
      "2025-04-23 22:18:03,689 - root - INFO - Build ResidualNet Net Done...\n",
      "2025-04-23 22:18:03,689 - root - INFO - train scBCN(expect_num_cluster=4) with ResidualNet\n",
      "2025-04-23 22:18:03,690 - root - INFO - expect_num_cluster=4\n",
      "2025-04-23 22:18:03,720 - root - INFO - using GPU to train model\n",
      "2025-04-23 22:18:04,224 - root - INFO - use cosine distance to train model\n",
      "2025-04-23 22:18:06,517 - root - INFO - epoch=1, loss=[6090.]\n",
      "2025-04-23 22:18:08,144 - root - INFO - epoch=2, loss=[6090.  603.]\n",
      "2025-04-23 22:18:09,650 - root - INFO - epoch=3, loss=[6.09e+03 6.03e+02 2.00e+00]\n",
      "2025-04-23 22:18:11,026 - root - INFO - epoch=4, loss=[6.09e+03 6.03e+02 2.00e+00 0.00e+00]\n",
      "2025-04-23 22:18:12,393 - root - INFO - epoch=5, loss=[6.09e+03 6.03e+02 2.00e+00 0.00e+00 3.00e+00]\n",
      "2025-04-23 22:18:13,770 - root - INFO - epoch=6, loss=[6.09e+03 6.03e+02 2.00e+00 0.00e+00 3.00e+00 1.00e+00]\n",
      "2025-04-23 22:18:15,518 - root - INFO - epoch=7, loss=[6.09e+03 6.03e+02 2.00e+00 0.00e+00 3.00e+00 1.00e+00 0.00e+00]\n",
      "2025-04-23 22:18:16,952 - root - INFO - epoch=8, loss=[6.09e+03 6.03e+02 2.00e+00 0.00e+00 3.00e+00 1.00e+00 0.00e+00 0.00e+00]\n",
      "2025-04-23 22:18:18,331 - root - INFO - epoch=9, loss=[6.09e+03 6.03e+02 2.00e+00 0.00e+00 3.00e+00 1.00e+00 0.00e+00 0.00e+00\n",
      " 0.00e+00]\n",
      "2025-04-23 22:18:19,726 - root - INFO - epoch=10, loss=[6.09e+03 6.03e+02 2.00e+00 0.00e+00 3.00e+00 1.00e+00 0.00e+00 0.00e+00\n",
      " 0.00e+00 2.00e+00]\n",
      "2025-04-23 22:18:21,120 - root - INFO - epoch=11, loss=[6.09e+03 6.03e+02 2.00e+00 0.00e+00 3.00e+00 1.00e+00 0.00e+00 0.00e+00\n",
      " 0.00e+00 2.00e+00 0.00e+00]\n",
      "2025-04-23 22:18:22,519 - root - INFO - epoch=12, loss=[6.09e+03 6.03e+02 2.00e+00 0.00e+00 3.00e+00 1.00e+00 0.00e+00 0.00e+00\n",
      " 0.00e+00 2.00e+00 0.00e+00 0.00e+00]\n",
      "2025-04-23 22:18:23,891 - root - INFO - epoch=13, loss=[6.09e+03 6.03e+02 2.00e+00 0.00e+00 3.00e+00 1.00e+00 0.00e+00 0.00e+00\n",
      " 0.00e+00 2.00e+00 0.00e+00 0.00e+00 0.00e+00]\n",
      "2025-04-23 22:18:25,263 - root - INFO - epoch=14, loss=[6.09e+03 6.03e+02 2.00e+00 0.00e+00 3.00e+00 1.00e+00 0.00e+00 0.00e+00\n",
      " 0.00e+00 2.00e+00 0.00e+00 0.00e+00 0.00e+00 0.00e+00]\n",
      "2025-04-23 22:18:26,669 - root - INFO - epoch=15, loss=[6.09e+03 6.03e+02 2.00e+00 0.00e+00 3.00e+00 1.00e+00 0.00e+00 0.00e+00\n",
      " 0.00e+00 2.00e+00 0.00e+00 0.00e+00 0.00e+00 0.00e+00 0.00e+00]\n",
      "2025-04-23 22:18:28,114 - root - INFO - epoch=16, loss=[6.09e+03 6.03e+02 2.00e+00 0.00e+00 3.00e+00 1.00e+00 0.00e+00 0.00e+00\n",
      " 0.00e+00 2.00e+00 0.00e+00 0.00e+00 0.00e+00 0.00e+00 0.00e+00 0.00e+00]\n",
      "2025-04-23 22:18:29,503 - root - INFO - epoch=17, loss=[6.09e+03 6.03e+02 2.00e+00 0.00e+00 3.00e+00 1.00e+00 0.00e+00 0.00e+00\n",
      " 0.00e+00 2.00e+00 0.00e+00 0.00e+00 0.00e+00 0.00e+00 0.00e+00 0.00e+00\n",
      " 0.00e+00]\n",
      "2025-04-23 22:18:30,887 - root - INFO - epoch=18, loss=[6.09e+03 6.03e+02 2.00e+00 0.00e+00 3.00e+00 1.00e+00 0.00e+00 0.00e+00\n",
      " 0.00e+00 2.00e+00 0.00e+00 0.00e+00 0.00e+00 0.00e+00 0.00e+00 0.00e+00\n",
      " 0.00e+00 0.00e+00]\n",
      "2025-04-23 22:18:32,324 - root - INFO - epoch=19, loss=[6.09e+03 6.03e+02 2.00e+00 0.00e+00 3.00e+00 1.00e+00 0.00e+00 0.00e+00\n",
      " 0.00e+00 2.00e+00 0.00e+00 0.00e+00 0.00e+00 0.00e+00 0.00e+00 0.00e+00\n",
      " 0.00e+00 0.00e+00 0.00e+00]\n",
      "2025-04-23 22:18:33,720 - root - INFO - epoch=20, loss=[6.09e+03 6.03e+02 2.00e+00 0.00e+00 3.00e+00 1.00e+00 0.00e+00 0.00e+00\n",
      " 0.00e+00 2.00e+00 0.00e+00 0.00e+00 0.00e+00 0.00e+00 0.00e+00 0.00e+00\n",
      " 0.00e+00 0.00e+00 0.00e+00 0.00e+00]\n",
      "2025-04-23 22:18:35,113 - root - INFO - epoch=21, loss=[6.09e+03 6.03e+02 2.00e+00 0.00e+00 3.00e+00 1.00e+00 0.00e+00 0.00e+00\n",
      " 0.00e+00 2.00e+00 0.00e+00 0.00e+00 0.00e+00 0.00e+00 0.00e+00 0.00e+00\n",
      " 0.00e+00 0.00e+00 0.00e+00 0.00e+00 0.00e+00]\n",
      "2025-04-23 22:18:36,541 - root - INFO - epoch=22, loss=[6.09e+03 6.03e+02 2.00e+00 0.00e+00 3.00e+00 1.00e+00 0.00e+00 0.00e+00\n",
      " 0.00e+00 2.00e+00 0.00e+00 0.00e+00 0.00e+00 0.00e+00 0.00e+00 0.00e+00\n",
      " 0.00e+00 0.00e+00 0.00e+00 0.00e+00 0.00e+00 0.00e+00]\n",
      "2025-04-23 22:18:37,978 - root - INFO - epoch=23, loss=[6.09e+03 6.03e+02 2.00e+00 0.00e+00 3.00e+00 1.00e+00 0.00e+00 0.00e+00\n",
      " 0.00e+00 2.00e+00 0.00e+00 0.00e+00 0.00e+00 0.00e+00 0.00e+00 0.00e+00\n",
      " 0.00e+00 0.00e+00 0.00e+00 0.00e+00 0.00e+00 0.00e+00 0.00e+00]\n",
      "2025-04-23 22:18:39,380 - root - INFO - epoch=24, loss=[6.09e+03 6.03e+02 2.00e+00 0.00e+00 3.00e+00 1.00e+00 0.00e+00 0.00e+00\n",
      " 0.00e+00 2.00e+00 0.00e+00 0.00e+00 0.00e+00 0.00e+00 0.00e+00 0.00e+00\n",
      " 0.00e+00 0.00e+00 0.00e+00 0.00e+00 0.00e+00 0.00e+00 0.00e+00 0.00e+00]\n",
      "2025-04-23 22:18:40,792 - root - INFO - epoch=25, loss=[6.09e+03 6.03e+02 2.00e+00 0.00e+00 3.00e+00 1.00e+00 0.00e+00 0.00e+00\n",
      " 0.00e+00 2.00e+00 0.00e+00 0.00e+00 0.00e+00 0.00e+00 0.00e+00 0.00e+00\n",
      " 0.00e+00 0.00e+00 0.00e+00 0.00e+00 0.00e+00 0.00e+00 0.00e+00 0.00e+00\n",
      " 0.00e+00]\n",
      "2025-04-23 22:18:42,214 - root - INFO - epoch=26, loss=[6.09e+03 6.03e+02 2.00e+00 0.00e+00 3.00e+00 1.00e+00 0.00e+00 0.00e+00\n",
      " 0.00e+00 2.00e+00 0.00e+00 0.00e+00 0.00e+00 0.00e+00 0.00e+00 0.00e+00\n",
      " 0.00e+00 0.00e+00 0.00e+00 0.00e+00 0.00e+00 0.00e+00 0.00e+00 0.00e+00\n",
      " 0.00e+00 0.00e+00]\n",
      "2025-04-23 22:18:43,614 - root - INFO - epoch=27, loss=[6.09e+03 6.03e+02 2.00e+00 0.00e+00 3.00e+00 1.00e+00 0.00e+00 0.00e+00\n",
      " 0.00e+00 2.00e+00 0.00e+00 0.00e+00 0.00e+00 0.00e+00 0.00e+00 0.00e+00\n",
      " 0.00e+00 0.00e+00 0.00e+00 0.00e+00 0.00e+00 0.00e+00 0.00e+00 0.00e+00\n",
      " 0.00e+00 0.00e+00 0.00e+00]\n",
      "2025-04-23 22:18:45,063 - root - INFO - epoch=28, loss=[6.09e+03 6.03e+02 2.00e+00 0.00e+00 3.00e+00 1.00e+00 0.00e+00 0.00e+00\n",
      " 0.00e+00 2.00e+00 0.00e+00 0.00e+00 0.00e+00 0.00e+00 0.00e+00 0.00e+00\n",
      " 0.00e+00 0.00e+00 0.00e+00 0.00e+00 0.00e+00 0.00e+00 0.00e+00 0.00e+00\n",
      " 0.00e+00 0.00e+00 0.00e+00 0.00e+00]\n",
      "2025-04-23 22:18:46,466 - root - INFO - epoch=29, loss=[6.09e+03 6.03e+02 2.00e+00 0.00e+00 3.00e+00 1.00e+00 0.00e+00 0.00e+00\n",
      " 0.00e+00 2.00e+00 0.00e+00 0.00e+00 0.00e+00 0.00e+00 0.00e+00 0.00e+00\n",
      " 0.00e+00 0.00e+00 0.00e+00 0.00e+00 0.00e+00 0.00e+00 0.00e+00 0.00e+00\n",
      " 0.00e+00 0.00e+00 0.00e+00 0.00e+00 0.00e+00]\n",
      "2025-04-23 22:18:47,946 - root - INFO - epoch=30, loss=[6.090e+03 6.030e+02 2.000e+00 0.000e+00 3.000e+00 1.000e+00 0.000e+00\n",
      " 0.000e+00 0.000e+00 2.000e+00 0.000e+00 0.000e+00 0.000e+00 0.000e+00\n",
      " 0.000e+00 0.000e+00 0.000e+00 0.000e+00 0.000e+00 0.000e+00 0.000e+00\n",
      " 0.000e+00 0.000e+00 0.000e+00 0.000e+00 0.000e+00 0.000e+00 0.000e+00\n",
      " 0.000e+00 1.723e+03]\n",
      "2025-04-23 22:18:49,382 - root - INFO - epoch=31, loss=[6.090e+03 6.030e+02 2.000e+00 0.000e+00 3.000e+00 1.000e+00 0.000e+00\n",
      " 0.000e+00 0.000e+00 2.000e+00 0.000e+00 0.000e+00 0.000e+00 0.000e+00\n",
      " 0.000e+00 0.000e+00 0.000e+00 0.000e+00 0.000e+00 0.000e+00 0.000e+00\n",
      " 0.000e+00 0.000e+00 0.000e+00 0.000e+00 0.000e+00 0.000e+00 0.000e+00\n",
      " 0.000e+00 1.723e+03 2.400e+02]\n",
      "2025-04-23 22:18:50,789 - root - INFO - epoch=32, loss=[6.090e+03 6.030e+02 2.000e+00 0.000e+00 3.000e+00 1.000e+00 0.000e+00\n",
      " 0.000e+00 0.000e+00 2.000e+00 0.000e+00 0.000e+00 0.000e+00 0.000e+00\n",
      " 0.000e+00 0.000e+00 0.000e+00 0.000e+00 0.000e+00 0.000e+00 0.000e+00\n",
      " 0.000e+00 0.000e+00 0.000e+00 0.000e+00 0.000e+00 0.000e+00 0.000e+00\n",
      " 0.000e+00 1.723e+03 2.400e+02 4.200e+01]\n",
      "2025-04-23 22:18:52,192 - root - INFO - epoch=33, loss=[6.090e+03 6.030e+02 2.000e+00 0.000e+00 3.000e+00 1.000e+00 0.000e+00\n",
      " 0.000e+00 0.000e+00 2.000e+00 0.000e+00 0.000e+00 0.000e+00 0.000e+00\n",
      " 0.000e+00 0.000e+00 0.000e+00 0.000e+00 0.000e+00 0.000e+00 0.000e+00\n",
      " 0.000e+00 0.000e+00 0.000e+00 0.000e+00 0.000e+00 0.000e+00 0.000e+00\n",
      " 0.000e+00 1.723e+03 2.400e+02 4.200e+01 1.200e+01]\n",
      "2025-04-23 22:18:53,577 - root - INFO - epoch=34, loss=[6.090e+03 6.030e+02 2.000e+00 0.000e+00 3.000e+00 1.000e+00 0.000e+00\n",
      " 0.000e+00 0.000e+00 2.000e+00 0.000e+00 0.000e+00 0.000e+00 0.000e+00\n",
      " 0.000e+00 0.000e+00 0.000e+00 0.000e+00 0.000e+00 0.000e+00 0.000e+00\n",
      " 0.000e+00 0.000e+00 0.000e+00 0.000e+00 0.000e+00 0.000e+00 0.000e+00\n",
      " 0.000e+00 1.723e+03 2.400e+02 4.200e+01 1.200e+01 0.000e+00]\n",
      "2025-04-23 22:18:54,963 - root - INFO - epoch=35, loss=[6.090e+03 6.030e+02 2.000e+00 0.000e+00 3.000e+00 1.000e+00 0.000e+00\n",
      " 0.000e+00 0.000e+00 2.000e+00 0.000e+00 0.000e+00 0.000e+00 0.000e+00\n",
      " 0.000e+00 0.000e+00 0.000e+00 0.000e+00 0.000e+00 0.000e+00 0.000e+00\n",
      " 0.000e+00 0.000e+00 0.000e+00 0.000e+00 0.000e+00 0.000e+00 0.000e+00\n",
      " 0.000e+00 1.723e+03 2.400e+02 4.200e+01 1.200e+01 0.000e+00 0.000e+00]\n",
      "2025-04-23 22:18:56,349 - root - INFO - epoch=36, loss=[6.090e+03 6.030e+02 2.000e+00 0.000e+00 3.000e+00 1.000e+00 0.000e+00\n",
      " 0.000e+00 0.000e+00 2.000e+00 0.000e+00 0.000e+00 0.000e+00 0.000e+00\n",
      " 0.000e+00 0.000e+00 0.000e+00 0.000e+00 0.000e+00 0.000e+00 0.000e+00\n",
      " 0.000e+00 0.000e+00 0.000e+00 0.000e+00 0.000e+00 0.000e+00 0.000e+00\n",
      " 0.000e+00 1.723e+03 2.400e+02 4.200e+01 1.200e+01 0.000e+00 0.000e+00\n",
      " 0.000e+00]\n",
      "2025-04-23 22:18:57,730 - root - INFO - epoch=37, loss=[6.090e+03 6.030e+02 2.000e+00 0.000e+00 3.000e+00 1.000e+00 0.000e+00\n",
      " 0.000e+00 0.000e+00 2.000e+00 0.000e+00 0.000e+00 0.000e+00 0.000e+00\n",
      " 0.000e+00 0.000e+00 0.000e+00 0.000e+00 0.000e+00 0.000e+00 0.000e+00\n",
      " 0.000e+00 0.000e+00 0.000e+00 0.000e+00 0.000e+00 0.000e+00 0.000e+00\n",
      " 0.000e+00 1.723e+03 2.400e+02 4.200e+01 1.200e+01 0.000e+00 0.000e+00\n",
      " 0.000e+00 0.000e+00]\n",
      "2025-04-23 22:18:59,116 - root - INFO - epoch=38, loss=[6.090e+03 6.030e+02 2.000e+00 0.000e+00 3.000e+00 1.000e+00 0.000e+00\n",
      " 0.000e+00 0.000e+00 2.000e+00 0.000e+00 0.000e+00 0.000e+00 0.000e+00\n",
      " 0.000e+00 0.000e+00 0.000e+00 0.000e+00 0.000e+00 0.000e+00 0.000e+00\n",
      " 0.000e+00 0.000e+00 0.000e+00 0.000e+00 0.000e+00 0.000e+00 0.000e+00\n",
      " 0.000e+00 1.723e+03 2.400e+02 4.200e+01 1.200e+01 0.000e+00 0.000e+00\n",
      " 0.000e+00 0.000e+00 0.000e+00]\n",
      "2025-04-23 22:19:00,563 - root - INFO - epoch=39, loss=[6.090e+03 6.030e+02 2.000e+00 0.000e+00 3.000e+00 1.000e+00 0.000e+00\n",
      " 0.000e+00 0.000e+00 2.000e+00 0.000e+00 0.000e+00 0.000e+00 0.000e+00\n",
      " 0.000e+00 0.000e+00 0.000e+00 0.000e+00 0.000e+00 0.000e+00 0.000e+00\n",
      " 0.000e+00 0.000e+00 0.000e+00 0.000e+00 0.000e+00 0.000e+00 0.000e+00\n",
      " 0.000e+00 1.723e+03 2.400e+02 4.200e+01 1.200e+01 0.000e+00 0.000e+00\n",
      " 0.000e+00 0.000e+00 0.000e+00 0.000e+00]\n",
      "2025-04-23 22:19:01,963 - root - INFO - epoch=40, loss=[6.090e+03 6.030e+02 2.000e+00 0.000e+00 3.000e+00 1.000e+00 0.000e+00\n",
      " 0.000e+00 0.000e+00 2.000e+00 0.000e+00 0.000e+00 0.000e+00 0.000e+00\n",
      " 0.000e+00 0.000e+00 0.000e+00 0.000e+00 0.000e+00 0.000e+00 0.000e+00\n",
      " 0.000e+00 0.000e+00 0.000e+00 0.000e+00 0.000e+00 0.000e+00 0.000e+00\n",
      " 0.000e+00 1.723e+03 2.400e+02 4.200e+01 1.200e+01 0.000e+00 0.000e+00\n",
      " 0.000e+00 0.000e+00 0.000e+00 0.000e+00 0.000e+00]\n",
      "2025-04-23 22:19:03,352 - root - INFO - epoch=41, loss=[6.090e+03 6.030e+02 2.000e+00 0.000e+00 3.000e+00 1.000e+00 0.000e+00\n",
      " 0.000e+00 0.000e+00 2.000e+00 0.000e+00 0.000e+00 0.000e+00 0.000e+00\n",
      " 0.000e+00 0.000e+00 0.000e+00 0.000e+00 0.000e+00 0.000e+00 0.000e+00\n",
      " 0.000e+00 0.000e+00 0.000e+00 0.000e+00 0.000e+00 0.000e+00 0.000e+00\n",
      " 0.000e+00 1.723e+03 2.400e+02 4.200e+01 1.200e+01 0.000e+00 0.000e+00\n",
      " 0.000e+00 0.000e+00 0.000e+00 0.000e+00 0.000e+00 0.000e+00]\n",
      "2025-04-23 22:19:04,753 - root - INFO - epoch=42, loss=[6.090e+03 6.030e+02 2.000e+00 0.000e+00 3.000e+00 1.000e+00 0.000e+00\n",
      " 0.000e+00 0.000e+00 2.000e+00 0.000e+00 0.000e+00 0.000e+00 0.000e+00\n",
      " 0.000e+00 0.000e+00 0.000e+00 0.000e+00 0.000e+00 0.000e+00 0.000e+00\n",
      " 0.000e+00 0.000e+00 0.000e+00 0.000e+00 0.000e+00 0.000e+00 0.000e+00\n",
      " 0.000e+00 1.723e+03 2.400e+02 4.200e+01 1.200e+01 0.000e+00 0.000e+00\n",
      " 0.000e+00 0.000e+00 0.000e+00 0.000e+00 0.000e+00 0.000e+00 0.000e+00]\n",
      "2025-04-23 22:19:06,140 - root - INFO - epoch=43, loss=[6.090e+03 6.030e+02 2.000e+00 0.000e+00 3.000e+00 1.000e+00 0.000e+00\n",
      " 0.000e+00 0.000e+00 2.000e+00 0.000e+00 0.000e+00 0.000e+00 0.000e+00\n",
      " 0.000e+00 0.000e+00 0.000e+00 0.000e+00 0.000e+00 0.000e+00 0.000e+00\n",
      " 0.000e+00 0.000e+00 0.000e+00 0.000e+00 0.000e+00 0.000e+00 0.000e+00\n",
      " 0.000e+00 1.723e+03 2.400e+02 4.200e+01 1.200e+01 0.000e+00 0.000e+00\n",
      " 0.000e+00 0.000e+00 0.000e+00 0.000e+00 0.000e+00 0.000e+00 0.000e+00\n",
      " 0.000e+00]\n",
      "2025-04-23 22:19:07,516 - root - INFO - epoch=44, loss=[6.090e+03 6.030e+02 2.000e+00 0.000e+00 3.000e+00 1.000e+00 0.000e+00\n",
      " 0.000e+00 0.000e+00 2.000e+00 0.000e+00 0.000e+00 0.000e+00 0.000e+00\n",
      " 0.000e+00 0.000e+00 0.000e+00 0.000e+00 0.000e+00 0.000e+00 0.000e+00\n",
      " 0.000e+00 0.000e+00 0.000e+00 0.000e+00 0.000e+00 0.000e+00 0.000e+00\n",
      " 0.000e+00 1.723e+03 2.400e+02 4.200e+01 1.200e+01 0.000e+00 0.000e+00\n",
      " 0.000e+00 0.000e+00 0.000e+00 0.000e+00 0.000e+00 0.000e+00 0.000e+00\n",
      " 0.000e+00 0.000e+00]\n",
      "2025-04-23 22:19:08,931 - root - INFO - epoch=45, loss=[6.090e+03 6.030e+02 2.000e+00 0.000e+00 3.000e+00 1.000e+00 0.000e+00\n",
      " 0.000e+00 0.000e+00 2.000e+00 0.000e+00 0.000e+00 0.000e+00 0.000e+00\n",
      " 0.000e+00 0.000e+00 0.000e+00 0.000e+00 0.000e+00 0.000e+00 0.000e+00\n",
      " 0.000e+00 0.000e+00 0.000e+00 0.000e+00 0.000e+00 0.000e+00 0.000e+00\n",
      " 0.000e+00 1.723e+03 2.400e+02 4.200e+01 1.200e+01 0.000e+00 0.000e+00\n",
      " 0.000e+00 0.000e+00 0.000e+00 0.000e+00 0.000e+00 0.000e+00 0.000e+00\n",
      " 0.000e+00 0.000e+00 0.000e+00]\n",
      "2025-04-23 22:19:10,307 - root - INFO - epoch=46, loss=[6.090e+03 6.030e+02 2.000e+00 0.000e+00 3.000e+00 1.000e+00 0.000e+00\n",
      " 0.000e+00 0.000e+00 2.000e+00 0.000e+00 0.000e+00 0.000e+00 0.000e+00\n",
      " 0.000e+00 0.000e+00 0.000e+00 0.000e+00 0.000e+00 0.000e+00 0.000e+00\n",
      " 0.000e+00 0.000e+00 0.000e+00 0.000e+00 0.000e+00 0.000e+00 0.000e+00\n",
      " 0.000e+00 1.723e+03 2.400e+02 4.200e+01 1.200e+01 0.000e+00 0.000e+00\n",
      " 0.000e+00 0.000e+00 0.000e+00 0.000e+00 0.000e+00 0.000e+00 0.000e+00\n",
      " 0.000e+00 0.000e+00 0.000e+00 0.000e+00]\n",
      "2025-04-23 22:19:11,690 - root - INFO - epoch=47, loss=[6.090e+03 6.030e+02 2.000e+00 0.000e+00 3.000e+00 1.000e+00 0.000e+00\n",
      " 0.000e+00 0.000e+00 2.000e+00 0.000e+00 0.000e+00 0.000e+00 0.000e+00\n",
      " 0.000e+00 0.000e+00 0.000e+00 0.000e+00 0.000e+00 0.000e+00 0.000e+00\n",
      " 0.000e+00 0.000e+00 0.000e+00 0.000e+00 0.000e+00 0.000e+00 0.000e+00\n",
      " 0.000e+00 1.723e+03 2.400e+02 4.200e+01 1.200e+01 0.000e+00 0.000e+00\n",
      " 0.000e+00 0.000e+00 0.000e+00 0.000e+00 0.000e+00 0.000e+00 0.000e+00\n",
      " 0.000e+00 0.000e+00 0.000e+00 0.000e+00 4.000e+00]\n",
      "2025-04-23 22:19:13,025 - root - INFO - epoch=48, loss=[6.090e+03 6.030e+02 2.000e+00 0.000e+00 3.000e+00 1.000e+00 0.000e+00\n",
      " 0.000e+00 0.000e+00 2.000e+00 0.000e+00 0.000e+00 0.000e+00 0.000e+00\n",
      " 0.000e+00 0.000e+00 0.000e+00 0.000e+00 0.000e+00 0.000e+00 0.000e+00\n",
      " 0.000e+00 0.000e+00 0.000e+00 0.000e+00 0.000e+00 0.000e+00 0.000e+00\n",
      " 0.000e+00 1.723e+03 2.400e+02 4.200e+01 1.200e+01 0.000e+00 0.000e+00\n",
      " 0.000e+00 0.000e+00 0.000e+00 0.000e+00 0.000e+00 0.000e+00 0.000e+00\n",
      " 0.000e+00 0.000e+00 0.000e+00 0.000e+00 4.000e+00 0.000e+00]\n",
      "2025-04-23 22:19:14,355 - root - INFO - epoch=49, loss=[6.090e+03 6.030e+02 2.000e+00 0.000e+00 3.000e+00 1.000e+00 0.000e+00\n",
      " 0.000e+00 0.000e+00 2.000e+00 0.000e+00 0.000e+00 0.000e+00 0.000e+00\n",
      " 0.000e+00 0.000e+00 0.000e+00 0.000e+00 0.000e+00 0.000e+00 0.000e+00\n",
      " 0.000e+00 0.000e+00 0.000e+00 0.000e+00 0.000e+00 0.000e+00 0.000e+00\n",
      " 0.000e+00 1.723e+03 2.400e+02 4.200e+01 1.200e+01 0.000e+00 0.000e+00\n",
      " 0.000e+00 0.000e+00 0.000e+00 0.000e+00 0.000e+00 0.000e+00 0.000e+00\n",
      " 0.000e+00 0.000e+00 0.000e+00 0.000e+00 4.000e+00 0.000e+00 0.000e+00]\n",
      "2025-04-23 22:19:15,702 - root - INFO - epoch=50, loss=[6.090e+03 6.030e+02 2.000e+00 0.000e+00 3.000e+00 1.000e+00 0.000e+00\n",
      " 0.000e+00 0.000e+00 2.000e+00 0.000e+00 0.000e+00 0.000e+00 0.000e+00\n",
      " 0.000e+00 0.000e+00 0.000e+00 0.000e+00 0.000e+00 0.000e+00 0.000e+00\n",
      " 0.000e+00 0.000e+00 0.000e+00 0.000e+00 0.000e+00 0.000e+00 0.000e+00\n",
      " 0.000e+00 1.723e+03 2.400e+02 4.200e+01 1.200e+01 0.000e+00 0.000e+00\n",
      " 0.000e+00 0.000e+00 0.000e+00 0.000e+00 0.000e+00 0.000e+00 0.000e+00\n",
      " 0.000e+00 0.000e+00 0.000e+00 0.000e+00 4.000e+00 0.000e+00 0.000e+00\n",
      " 0.000e+00]\n",
      "2025-04-23 22:19:15,703 - root - INFO - scBCN training done....\n",
      "2025-04-23 22:19:15,703 - root - INFO - extract embedding for dataset with trained network\n",
      "                                                     \r"
     ]
    }
   ],
   "source": [
    "# 后续更改\n",
    "n_cluster=4\n",
    "scbcn.integrate(adata, batch_key=\"BATCH\", n_cluster=n_cluster, k=10, walk_steps=20, expect_num_cluster=n_cluster)\n",
    "adata.obs[\"cluster_celltype\"]=adata.obs[\"reassign_cluster\"].copy()"
   ]
  },
  {
   "cell_type": "code",
   "execution_count": 11,
   "id": "9adfe7c4-e8fb-4a68-9bf4-573a751533ec",
   "metadata": {},
   "outputs": [
    {
     "name": "stdout",
     "output_type": "stream",
     "text": [
      "WARNING: saving figure to file /root/autodl-tmp/evaluation/sim2/scBCN/umap_sim2_scBCN_corrected.png\n"
     ]
    }
   ],
   "source": [
    "sc.pp.neighbors(adata, random_state=0, use_rep=\"X_emb\")\n",
    "sc.tl.umap(adata)\n",
    "sc.pl.umap(adata,color=[\"BATCH\",\"celltype\"], save=\"_\"+dataset+\"_\"+method+\"_corrected.png\")"
   ]
  },
  {
   "cell_type": "code",
   "execution_count": 12,
   "id": "e99bb5bd-f489-4931-8890-4f36430cb01c",
   "metadata": {},
   "outputs": [
    {
     "name": "stdout",
     "output_type": "stream",
     "text": [
      "done\n"
     ]
    }
   ],
   "source": [
    "adata.write(save_dir+dataset+\"/\"+method+\"/\"+dataset+\"_\"+method+\"_corrected.h5ad\")\n",
    "print(\"done\")"
   ]
  },
  {
   "cell_type": "markdown",
   "id": "9405873f-6c1b-4547-8055-e84e7ddbd34e",
   "metadata": {},
   "source": [
    "### metrics output"
   ]
  },
  {
   "cell_type": "code",
   "execution_count": 13,
   "id": "0539f82a-2d6b-41db-87e4-07731762c0ce",
   "metadata": {},
   "outputs": [
    {
     "name": "stdout",
     "output_type": "stream",
     "text": [
      "/usr/local/nvidia/lib:/usr/local/nvidia/lib64\n",
      "/root/miniconda3/envs/sc/lib/R\n"
     ]
    }
   ],
   "source": [
    "import os\n",
    "os.getcwd()\n",
    "print(os.environ[\"LD_LIBRARY_PATH\"])\n",
    "os.environ['R_HOME'] = '/root/miniconda3/envs/sc/lib/R'\n",
    "print(os.environ['R_HOME'])"
   ]
  },
  {
   "cell_type": "code",
   "execution_count": 14,
   "id": "ba7b51c2-47a4-4f67-8f4c-031d690b4c40",
   "metadata": {},
   "outputs": [
    {
     "name": "stderr",
     "output_type": "stream",
     "text": [
      "2025-04-23 22:19:35,175 - rpy2.situation - INFO - cffi mode is CFFI_MODE.ANY\n",
      "2025-04-23 22:19:35,180 - rpy2.situation - INFO - R home found: /root/miniconda3/envs/sc/lib/R\n",
      "2025-04-23 22:19:35,338 - rpy2.situation - INFO - R library path: /usr/local/nvidia/lib:/usr/local/nvidia/lib64\n",
      "2025-04-23 22:19:35,339 - rpy2.situation - INFO - LD_LIBRARY_PATH: /usr/local/nvidia/lib:/usr/local/nvidia/lib64\n",
      "2025-04-23 22:19:35,342 - rpy2.rinterface_lib.embedded - INFO - Default options to initialize R: rpy2, --quiet, --no-save\n",
      "2025-04-23 22:19:35,563 - rpy2.rinterface_lib.embedded - INFO - R is already initialized. No need to initialize.\n"
     ]
    }
   ],
   "source": [
    "from metrics import evaluate_dataset"
   ]
  },
  {
   "cell_type": "code",
   "execution_count": 15,
   "id": "8de0ce5c-3cce-493a-9370-f186ed25712e",
   "metadata": {},
   "outputs": [],
   "source": [
    "adata_integrated = sc.read_h5ad(save_dir+dataset+\"/\"+method+\"/\"+dataset+\"_\"+method+\"_corrected.h5ad\")"
   ]
  },
  {
   "cell_type": "code",
   "execution_count": 16,
   "id": "0f744fbe-9f5c-4860-a90b-079e8a3f97a9",
   "metadata": {},
   "outputs": [],
   "source": [
    "adata_new=sc.AnnData(adata_integrated.obsm[\"X_emb\"])\n",
    "adata_new.obs=adata_integrated.obs.copy()\n",
    "adata_integrated=adata_new.copy()\n",
    "adata_integrated.obsm[\"X_emb\"]=adata_integrated.X.copy()"
   ]
  },
  {
   "cell_type": "code",
   "execution_count": 17,
   "id": "ee7f5fa6-575f-45ae-8702-0c3943a011ad",
   "metadata": {},
   "outputs": [
    {
     "name": "stdout",
     "output_type": "stream",
     "text": [
      "...... method=scBCN ......\n",
      "ARI: 1.0\n",
      "NMI: 1.0\n",
      "ASW_celltype = 0.904625654220581\n",
      "BatchKL= [1.2595414]\n",
      "ilisi= 1.4522383141229969\n",
      "              scBCN\n",
      "ARI           1.000\n",
      "NMI           1.000\n",
      "ASW_celltype  0.905\n",
      "BatchKL       1.260\n",
      "iLISI         1.452\n"
     ]
    }
   ],
   "source": [
    "adata_integrated,scBCN3_eva=evaluate_dataset(adata_integrated,method=method,n_cluster=n_cluster)\n",
    "print(scBCN3_eva)"
   ]
  },
  {
   "cell_type": "code",
   "execution_count": null,
   "id": "1a25150f-d03c-454c-bc6d-056cc5e58919",
   "metadata": {},
   "outputs": [],
   "source": []
  }
 ],
 "metadata": {
  "kernelspec": {
   "display_name": "sc",
   "language": "python",
   "name": "sc"
  },
  "language_info": {
   "codemirror_mode": {
    "name": "ipython",
    "version": 3
   },
   "file_extension": ".py",
   "mimetype": "text/x-python",
   "name": "python",
   "nbconvert_exporter": "python",
   "pygments_lexer": "ipython3",
   "version": "3.10.13"
  }
 },
 "nbformat": 4,
 "nbformat_minor": 5
}
